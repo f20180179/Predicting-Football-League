{
  "nbformat": 4,
  "nbformat_minor": 0,
  "metadata": {
    "kernelspec": {
      "display_name": "Python 3",
      "language": "python",
      "name": "python3"
    },
    "language_info": {
      "codemirror_mode": {
        "name": "ipython",
        "version": 3
      },
      "file_extension": ".py",
      "mimetype": "text/x-python",
      "name": "python",
      "nbconvert_exporter": "python",
      "pygments_lexer": "ipython3",
      "version": "3.8.3"
    },
    "colab": {
      "name": "Major_project1.ipynb",
      "provenance": [],
      "collapsed_sections": [],
      "toc_visible": true
    }
  },
  "cells": [
    {
      "cell_type": "code",
      "metadata": {
        "id": "8IrLhSiOhnSC",
        "colab": {
          "resources": {
            "http://localhost:8080/nbextensions/google.colab/files.js": {
              "data": "Ly8gQ29weXJpZ2h0IDIwMTcgR29vZ2xlIExMQwovLwovLyBMaWNlbnNlZCB1bmRlciB0aGUgQXBhY2hlIExpY2Vuc2UsIFZlcnNpb24gMi4wICh0aGUgIkxpY2Vuc2UiKTsKLy8geW91IG1heSBub3QgdXNlIHRoaXMgZmlsZSBleGNlcHQgaW4gY29tcGxpYW5jZSB3aXRoIHRoZSBMaWNlbnNlLgovLyBZb3UgbWF5IG9idGFpbiBhIGNvcHkgb2YgdGhlIExpY2Vuc2UgYXQKLy8KLy8gICAgICBodHRwOi8vd3d3LmFwYWNoZS5vcmcvbGljZW5zZXMvTElDRU5TRS0yLjAKLy8KLy8gVW5sZXNzIHJlcXVpcmVkIGJ5IGFwcGxpY2FibGUgbGF3IG9yIGFncmVlZCB0byBpbiB3cml0aW5nLCBzb2Z0d2FyZQovLyBkaXN0cmlidXRlZCB1bmRlciB0aGUgTGljZW5zZSBpcyBkaXN0cmlidXRlZCBvbiBhbiAiQVMgSVMiIEJBU0lTLAovLyBXSVRIT1VUIFdBUlJBTlRJRVMgT1IgQ09ORElUSU9OUyBPRiBBTlkgS0lORCwgZWl0aGVyIGV4cHJlc3Mgb3IgaW1wbGllZC4KLy8gU2VlIHRoZSBMaWNlbnNlIGZvciB0aGUgc3BlY2lmaWMgbGFuZ3VhZ2UgZ292ZXJuaW5nIHBlcm1pc3Npb25zIGFuZAovLyBsaW1pdGF0aW9ucyB1bmRlciB0aGUgTGljZW5zZS4KCi8qKgogKiBAZmlsZW92ZXJ2aWV3IEhlbHBlcnMgZm9yIGdvb2dsZS5jb2xhYiBQeXRob24gbW9kdWxlLgogKi8KKGZ1bmN0aW9uKHNjb3BlKSB7CmZ1bmN0aW9uIHNwYW4odGV4dCwgc3R5bGVBdHRyaWJ1dGVzID0ge30pIHsKICBjb25zdCBlbGVtZW50ID0gZG9jdW1lbnQuY3JlYXRlRWxlbWVudCgnc3BhbicpOwogIGVsZW1lbnQudGV4dENvbnRlbnQgPSB0ZXh0OwogIGZvciAoY29uc3Qga2V5IG9mIE9iamVjdC5rZXlzKHN0eWxlQXR0cmlidXRlcykpIHsKICAgIGVsZW1lbnQuc3R5bGVba2V5XSA9IHN0eWxlQXR0cmlidXRlc1trZXldOwogIH0KICByZXR1cm4gZWxlbWVudDsKfQoKLy8gTWF4IG51bWJlciBvZiBieXRlcyB3aGljaCB3aWxsIGJlIHVwbG9hZGVkIGF0IGEgdGltZS4KY29uc3QgTUFYX1BBWUxPQURfU0laRSA9IDEwMCAqIDEwMjQ7CgpmdW5jdGlvbiBfdXBsb2FkRmlsZXMoaW5wdXRJZCwgb3V0cHV0SWQpIHsKICBjb25zdCBzdGVwcyA9IHVwbG9hZEZpbGVzU3RlcChpbnB1dElkLCBvdXRwdXRJZCk7CiAgY29uc3Qgb3V0cHV0RWxlbWVudCA9IGRvY3VtZW50LmdldEVsZW1lbnRCeUlkKG91dHB1dElkKTsKICAvLyBDYWNoZSBzdGVwcyBvbiB0aGUgb3V0cHV0RWxlbWVudCB0byBtYWtlIGl0IGF2YWlsYWJsZSBmb3IgdGhlIG5leHQgY2FsbAogIC8vIHRvIHVwbG9hZEZpbGVzQ29udGludWUgZnJvbSBQeXRob24uCiAgb3V0cHV0RWxlbWVudC5zdGVwcyA9IHN0ZXBzOwoKICByZXR1cm4gX3VwbG9hZEZpbGVzQ29udGludWUob3V0cHV0SWQpOwp9CgovLyBUaGlzIGlzIHJvdWdobHkgYW4gYXN5bmMgZ2VuZXJhdG9yIChub3Qgc3VwcG9ydGVkIGluIHRoZSBicm93c2VyIHlldCksCi8vIHdoZXJlIHRoZXJlIGFyZSBtdWx0aXBsZSBhc3luY2hyb25vdXMgc3RlcHMgYW5kIHRoZSBQeXRob24gc2lkZSBpcyBnb2luZwovLyB0byBwb2xsIGZvciBjb21wbGV0aW9uIG9mIGVhY2ggc3RlcC4KLy8gVGhpcyB1c2VzIGEgUHJvbWlzZSB0byBibG9jayB0aGUgcHl0aG9uIHNpZGUgb24gY29tcGxldGlvbiBvZiBlYWNoIHN0ZXAsCi8vIHRoZW4gcGFzc2VzIHRoZSByZXN1bHQgb2YgdGhlIHByZXZpb3VzIHN0ZXAgYXMgdGhlIGlucHV0IHRvIHRoZSBuZXh0IHN0ZXAuCmZ1bmN0aW9uIF91cGxvYWRGaWxlc0NvbnRpbnVlKG91dHB1dElkKSB7CiAgY29uc3Qgb3V0cHV0RWxlbWVudCA9IGRvY3VtZW50LmdldEVsZW1lbnRCeUlkKG91dHB1dElkKTsKICBjb25zdCBzdGVwcyA9IG91dHB1dEVsZW1lbnQuc3RlcHM7CgogIGNvbnN0IG5leHQgPSBzdGVwcy5uZXh0KG91dHB1dEVsZW1lbnQubGFzdFByb21pc2VWYWx1ZSk7CiAgcmV0dXJuIFByb21pc2UucmVzb2x2ZShuZXh0LnZhbHVlLnByb21pc2UpLnRoZW4oKHZhbHVlKSA9PiB7CiAgICAvLyBDYWNoZSB0aGUgbGFzdCBwcm9taXNlIHZhbHVlIHRvIG1ha2UgaXQgYXZhaWxhYmxlIHRvIHRoZSBuZXh0CiAgICAvLyBzdGVwIG9mIHRoZSBnZW5lcmF0b3IuCiAgICBvdXRwdXRFbGVtZW50Lmxhc3RQcm9taXNlVmFsdWUgPSB2YWx1ZTsKICAgIHJldHVybiBuZXh0LnZhbHVlLnJlc3BvbnNlOwogIH0pOwp9CgovKioKICogR2VuZXJhdG9yIGZ1bmN0aW9uIHdoaWNoIGlzIGNhbGxlZCBiZXR3ZWVuIGVhY2ggYXN5bmMgc3RlcCBvZiB0aGUgdXBsb2FkCiAqIHByb2Nlc3MuCiAqIEBwYXJhbSB7c3RyaW5nfSBpbnB1dElkIEVsZW1lbnQgSUQgb2YgdGhlIGlucHV0IGZpbGUgcGlja2VyIGVsZW1lbnQuCiAqIEBwYXJhbSB7c3RyaW5nfSBvdXRwdXRJZCBFbGVtZW50IElEIG9mIHRoZSBvdXRwdXQgZGlzcGxheS4KICogQHJldHVybiB7IUl0ZXJhYmxlPCFPYmplY3Q+fSBJdGVyYWJsZSBvZiBuZXh0IHN0ZXBzLgogKi8KZnVuY3Rpb24qIHVwbG9hZEZpbGVzU3RlcChpbnB1dElkLCBvdXRwdXRJZCkgewogIGNvbnN0IGlucHV0RWxlbWVudCA9IGRvY3VtZW50LmdldEVsZW1lbnRCeUlkKGlucHV0SWQpOwogIGlucHV0RWxlbWVudC5kaXNhYmxlZCA9IGZhbHNlOwoKICBjb25zdCBvdXRwdXRFbGVtZW50ID0gZG9jdW1lbnQuZ2V0RWxlbWVudEJ5SWQob3V0cHV0SWQpOwogIG91dHB1dEVsZW1lbnQuaW5uZXJIVE1MID0gJyc7CgogIGNvbnN0IHBpY2tlZFByb21pc2UgPSBuZXcgUHJvbWlzZSgocmVzb2x2ZSkgPT4gewogICAgaW5wdXRFbGVtZW50LmFkZEV2ZW50TGlzdGVuZXIoJ2NoYW5nZScsIChlKSA9PiB7CiAgICAgIHJlc29sdmUoZS50YXJnZXQuZmlsZXMpOwogICAgfSk7CiAgfSk7CgogIGNvbnN0IGNhbmNlbCA9IGRvY3VtZW50LmNyZWF0ZUVsZW1lbnQoJ2J1dHRvbicpOwogIGlucHV0RWxlbWVudC5wYXJlbnRFbGVtZW50LmFwcGVuZENoaWxkKGNhbmNlbCk7CiAgY2FuY2VsLnRleHRDb250ZW50ID0gJ0NhbmNlbCB1cGxvYWQnOwogIGNvbnN0IGNhbmNlbFByb21pc2UgPSBuZXcgUHJvbWlzZSgocmVzb2x2ZSkgPT4gewogICAgY2FuY2VsLm9uY2xpY2sgPSAoKSA9PiB7CiAgICAgIHJlc29sdmUobnVsbCk7CiAgICB9OwogIH0pOwoKICAvLyBXYWl0IGZvciB0aGUgdXNlciB0byBwaWNrIHRoZSBmaWxlcy4KICBjb25zdCBmaWxlcyA9IHlpZWxkIHsKICAgIHByb21pc2U6IFByb21pc2UucmFjZShbcGlja2VkUHJvbWlzZSwgY2FuY2VsUHJvbWlzZV0pLAogICAgcmVzcG9uc2U6IHsKICAgICAgYWN0aW9uOiAnc3RhcnRpbmcnLAogICAgfQogIH07CgogIGNhbmNlbC5yZW1vdmUoKTsKCiAgLy8gRGlzYWJsZSB0aGUgaW5wdXQgZWxlbWVudCBzaW5jZSBmdXJ0aGVyIHBpY2tzIGFyZSBub3QgYWxsb3dlZC4KICBpbnB1dEVsZW1lbnQuZGlzYWJsZWQgPSB0cnVlOwoKICBpZiAoIWZpbGVzKSB7CiAgICByZXR1cm4gewogICAgICByZXNwb25zZTogewogICAgICAgIGFjdGlvbjogJ2NvbXBsZXRlJywKICAgICAgfQogICAgfTsKICB9CgogIGZvciAoY29uc3QgZmlsZSBvZiBmaWxlcykgewogICAgY29uc3QgbGkgPSBkb2N1bWVudC5jcmVhdGVFbGVtZW50KCdsaScpOwogICAgbGkuYXBwZW5kKHNwYW4oZmlsZS5uYW1lLCB7Zm9udFdlaWdodDogJ2JvbGQnfSkpOwogICAgbGkuYXBwZW5kKHNwYW4oCiAgICAgICAgYCgke2ZpbGUudHlwZSB8fCAnbi9hJ30pIC0gJHtmaWxlLnNpemV9IGJ5dGVzLCBgICsKICAgICAgICBgbGFzdCBtb2RpZmllZDogJHsKICAgICAgICAgICAgZmlsZS5sYXN0TW9kaWZpZWREYXRlID8gZmlsZS5sYXN0TW9kaWZpZWREYXRlLnRvTG9jYWxlRGF0ZVN0cmluZygpIDoKICAgICAgICAgICAgICAgICAgICAgICAgICAgICAgICAgICAgJ24vYSd9IC0gYCkpOwogICAgY29uc3QgcGVyY2VudCA9IHNwYW4oJzAlIGRvbmUnKTsKICAgIGxpLmFwcGVuZENoaWxkKHBlcmNlbnQpOwoKICAgIG91dHB1dEVsZW1lbnQuYXBwZW5kQ2hpbGQobGkpOwoKICAgIGNvbnN0IGZpbGVEYXRhUHJvbWlzZSA9IG5ldyBQcm9taXNlKChyZXNvbHZlKSA9PiB7CiAgICAgIGNvbnN0IHJlYWRlciA9IG5ldyBGaWxlUmVhZGVyKCk7CiAgICAgIHJlYWRlci5vbmxvYWQgPSAoZSkgPT4gewogICAgICAgIHJlc29sdmUoZS50YXJnZXQucmVzdWx0KTsKICAgICAgfTsKICAgICAgcmVhZGVyLnJlYWRBc0FycmF5QnVmZmVyKGZpbGUpOwogICAgfSk7CiAgICAvLyBXYWl0IGZvciB0aGUgZGF0YSB0byBiZSByZWFkeS4KICAgIGxldCBmaWxlRGF0YSA9IHlpZWxkIHsKICAgICAgcHJvbWlzZTogZmlsZURhdGFQcm9taXNlLAogICAgICByZXNwb25zZTogewogICAgICAgIGFjdGlvbjogJ2NvbnRpbnVlJywKICAgICAgfQogICAgfTsKCiAgICAvLyBVc2UgYSBjaHVua2VkIHNlbmRpbmcgdG8gYXZvaWQgbWVzc2FnZSBzaXplIGxpbWl0cy4gU2VlIGIvNjIxMTU2NjAuCiAgICBsZXQgcG9zaXRpb24gPSAwOwogICAgd2hpbGUgKHBvc2l0aW9uIDwgZmlsZURhdGEuYnl0ZUxlbmd0aCkgewogICAgICBjb25zdCBsZW5ndGggPSBNYXRoLm1pbihmaWxlRGF0YS5ieXRlTGVuZ3RoIC0gcG9zaXRpb24sIE1BWF9QQVlMT0FEX1NJWkUpOwogICAgICBjb25zdCBjaHVuayA9IG5ldyBVaW50OEFycmF5KGZpbGVEYXRhLCBwb3NpdGlvbiwgbGVuZ3RoKTsKICAgICAgcG9zaXRpb24gKz0gbGVuZ3RoOwoKICAgICAgY29uc3QgYmFzZTY0ID0gYnRvYShTdHJpbmcuZnJvbUNoYXJDb2RlLmFwcGx5KG51bGwsIGNodW5rKSk7CiAgICAgIHlpZWxkIHsKICAgICAgICByZXNwb25zZTogewogICAgICAgICAgYWN0aW9uOiAnYXBwZW5kJywKICAgICAgICAgIGZpbGU6IGZpbGUubmFtZSwKICAgICAgICAgIGRhdGE6IGJhc2U2NCwKICAgICAgICB9LAogICAgICB9OwogICAgICBwZXJjZW50LnRleHRDb250ZW50ID0KICAgICAgICAgIGAke01hdGgucm91bmQoKHBvc2l0aW9uIC8gZmlsZURhdGEuYnl0ZUxlbmd0aCkgKiAxMDApfSUgZG9uZWA7CiAgICB9CiAgfQoKICAvLyBBbGwgZG9uZS4KICB5aWVsZCB7CiAgICByZXNwb25zZTogewogICAgICBhY3Rpb246ICdjb21wbGV0ZScsCiAgICB9CiAgfTsKfQoKc2NvcGUuZ29vZ2xlID0gc2NvcGUuZ29vZ2xlIHx8IHt9OwpzY29wZS5nb29nbGUuY29sYWIgPSBzY29wZS5nb29nbGUuY29sYWIgfHwge307CnNjb3BlLmdvb2dsZS5jb2xhYi5fZmlsZXMgPSB7CiAgX3VwbG9hZEZpbGVzLAogIF91cGxvYWRGaWxlc0NvbnRpbnVlLAp9Owp9KShzZWxmKTsK",
              "ok": true,
              "headers": [
                [
                  "content-type",
                  "application/javascript"
                ]
              ],
              "status": 200,
              "status_text": ""
            }
          },
          "base_uri": "https://localhost:8080/",
          "height": 39
        },
        "outputId": "ff8d139b-13d3-46a4-83c9-fa0bb8827c32"
      },
      "source": [
        "from google.colab import files\n",
        "uploaded = files.upload()"
      ],
      "execution_count": null,
      "outputs": [
        {
          "output_type": "display_data",
          "data": {
            "text/html": [
              "\n",
              "     <input type=\"file\" id=\"files-766d7ca0-f5a4-4c31-ba7c-735b850abd6e\" name=\"files[]\" multiple disabled\n",
              "        style=\"border:none\" />\n",
              "     <output id=\"result-766d7ca0-f5a4-4c31-ba7c-735b850abd6e\">\n",
              "      Upload widget is only available when the cell has been executed in the\n",
              "      current browser session. Please rerun this cell to enable.\n",
              "      </output>\n",
              "      <script src=\"/nbextensions/google.colab/files.js\"></script> "
            ],
            "text/plain": [
              "<IPython.core.display.HTML object>"
            ]
          },
          "metadata": {
            "tags": []
          }
        }
      ]
    },
    {
      "cell_type": "code",
      "metadata": {
        "id": "ManzDR5LXy0W"
      },
      "source": [
        "import pandas as pd\n",
        "%matplotlib inline\n",
        "import matplotlib.pyplot as plt\n",
        "import seaborn as sns\n",
        "import numpy as np"
      ],
      "execution_count": null,
      "outputs": []
    },
    {
      "cell_type": "code",
      "metadata": {
        "id": "oJ8EPgJxXy0i"
      },
      "source": [
        "def find_target_func(scores):\n",
        "    if scores[0] > scores[1]:\n",
        "        return 1\n",
        "    elif scores[0] < scores[1]:\n",
        "        return -1\n",
        "    else:\n",
        "        return 0"
      ],
      "execution_count": null,
      "outputs": []
    },
    {
      "cell_type": "markdown",
      "metadata": {
        "id": "uy7NjwVlXy0m"
      },
      "source": [
        "Create a target feature where 1 denotes Home team wins, 0 denotes a draw, and -1 denotes away team victory."
      ]
    },
    {
      "cell_type": "code",
      "metadata": {
        "id": "fpFyyE_bXy0m",
        "colab": {
          "base_uri": "https://localhost:8080/",
          "height": 422
        },
        "outputId": "41cac03f-05aa-4ea1-f2dc-2d451c9bd180"
      },
      "source": [
        "df = pd.read_csv(\"data.csv\")\n",
        "\n",
        "df['target'] = df[['Score_home', 'Score_away']].apply(find_target_func, axis=1)\n",
        "df.sort_values('MatchID', inplace=True)\n",
        "df"
      ],
      "execution_count": null,
      "outputs": [
        {
          "output_type": "execute_result",
          "data": {
            "text/html": [
              "<div>\n",
              "<style scoped>\n",
              "    .dataframe tbody tr th:only-of-type {\n",
              "        vertical-align: middle;\n",
              "    }\n",
              "\n",
              "    .dataframe tbody tr th {\n",
              "        vertical-align: top;\n",
              "    }\n",
              "\n",
              "    .dataframe thead th {\n",
              "        text-align: right;\n",
              "    }\n",
              "</style>\n",
              "<table border=\"1\" class=\"dataframe\">\n",
              "  <thead>\n",
              "    <tr style=\"text-align: right;\">\n",
              "      <th></th>\n",
              "      <th>MatchID</th>\n",
              "      <th>Home_team</th>\n",
              "      <th>Away_team</th>\n",
              "      <th>Score_home</th>\n",
              "      <th>Score_away</th>\n",
              "      <th>Possession_home</th>\n",
              "      <th>Possession_away</th>\n",
              "      <th>Shots_on_target_home</th>\n",
              "      <th>Shots_on_target_away</th>\n",
              "      <th>Shots_home</th>\n",
              "      <th>Shots_away</th>\n",
              "      <th>Touches_home</th>\n",
              "      <th>Touches_away</th>\n",
              "      <th>Passes_home</th>\n",
              "      <th>Passes_away</th>\n",
              "      <th>Tackles_home</th>\n",
              "      <th>Tackles_away</th>\n",
              "      <th>Clearances_home</th>\n",
              "      <th>Clearances_away</th>\n",
              "      <th>Corners_home</th>\n",
              "      <th>Corners_away</th>\n",
              "      <th>Offsides_home</th>\n",
              "      <th>Offsides_away</th>\n",
              "      <th>Yellow_cards_home</th>\n",
              "      <th>Yellow_cards_away</th>\n",
              "      <th>Fouls_conceded_home</th>\n",
              "      <th>Fouls_conceded_away</th>\n",
              "      <th>Red_cards_home</th>\n",
              "      <th>Red_cards_away</th>\n",
              "      <th>year</th>\n",
              "      <th>Expenditures_home</th>\n",
              "      <th>Arrivals_home</th>\n",
              "      <th>Income_home</th>\n",
              "      <th>Departures_home</th>\n",
              "      <th>Expenditures_away</th>\n",
              "      <th>Arrivals_away</th>\n",
              "      <th>Income_away</th>\n",
              "      <th>Departures_away</th>\n",
              "      <th>target</th>\n",
              "    </tr>\n",
              "  </thead>\n",
              "  <tbody>\n",
              "    <tr>\n",
              "      <th>373</th>\n",
              "      <td>5567</td>\n",
              "      <td>Arsenal</td>\n",
              "      <td>Aston Villa</td>\n",
              "      <td>1</td>\n",
              "      <td>1</td>\n",
              "      <td>72.9</td>\n",
              "      <td>27.1</td>\n",
              "      <td>7</td>\n",
              "      <td>3</td>\n",
              "      <td>24</td>\n",
              "      <td>6</td>\n",
              "      <td>807</td>\n",
              "      <td>417</td>\n",
              "      <td>631</td>\n",
              "      <td>232</td>\n",
              "      <td>22</td>\n",
              "      <td>33</td>\n",
              "      <td>14</td>\n",
              "      <td>51</td>\n",
              "      <td>18</td>\n",
              "      <td>1</td>\n",
              "      <td>2</td>\n",
              "      <td>6</td>\n",
              "      <td>1</td>\n",
              "      <td>2</td>\n",
              "      <td>10</td>\n",
              "      <td>19</td>\n",
              "      <td>0</td>\n",
              "      <td>0</td>\n",
              "      <td>2007</td>\n",
              "      <td>17.10</td>\n",
              "      <td>18</td>\n",
              "      <td>14.85</td>\n",
              "      <td>21</td>\n",
              "      <td>28.16</td>\n",
              "      <td>17</td>\n",
              "      <td>2.08</td>\n",
              "      <td>18</td>\n",
              "      <td>0</td>\n",
              "    </tr>\n",
              "    <tr>\n",
              "      <th>379</th>\n",
              "      <td>5568</td>\n",
              "      <td>Bolton</td>\n",
              "      <td>Spurs</td>\n",
              "      <td>2</td>\n",
              "      <td>0</td>\n",
              "      <td>37.8</td>\n",
              "      <td>62.2</td>\n",
              "      <td>4</td>\n",
              "      <td>2</td>\n",
              "      <td>13</td>\n",
              "      <td>10</td>\n",
              "      <td>411</td>\n",
              "      <td>591</td>\n",
              "      <td>243</td>\n",
              "      <td>427</td>\n",
              "      <td>28</td>\n",
              "      <td>17</td>\n",
              "      <td>20</td>\n",
              "      <td>43</td>\n",
              "      <td>6</td>\n",
              "      <td>3</td>\n",
              "      <td>3</td>\n",
              "      <td>1</td>\n",
              "      <td>0</td>\n",
              "      <td>0</td>\n",
              "      <td>22</td>\n",
              "      <td>22</td>\n",
              "      <td>0</td>\n",
              "      <td>0</td>\n",
              "      <td>2007</td>\n",
              "      <td>19.38</td>\n",
              "      <td>16</td>\n",
              "      <td>4.39</td>\n",
              "      <td>16</td>\n",
              "      <td>69.54</td>\n",
              "      <td>23</td>\n",
              "      <td>44.06</td>\n",
              "      <td>23</td>\n",
              "      <td>1</td>\n",
              "    </tr>\n",
              "    <tr>\n",
              "      <th>374</th>\n",
              "      <td>5569</td>\n",
              "      <td>Everton</td>\n",
              "      <td>Watford</td>\n",
              "      <td>2</td>\n",
              "      <td>1</td>\n",
              "      <td>47.0</td>\n",
              "      <td>53.0</td>\n",
              "      <td>2</td>\n",
              "      <td>7</td>\n",
              "      <td>8</td>\n",
              "      <td>13</td>\n",
              "      <td>460</td>\n",
              "      <td>493</td>\n",
              "      <td>288</td>\n",
              "      <td>321</td>\n",
              "      <td>17</td>\n",
              "      <td>24</td>\n",
              "      <td>61</td>\n",
              "      <td>32</td>\n",
              "      <td>0</td>\n",
              "      <td>6</td>\n",
              "      <td>5</td>\n",
              "      <td>1</td>\n",
              "      <td>2</td>\n",
              "      <td>2</td>\n",
              "      <td>12</td>\n",
              "      <td>15</td>\n",
              "      <td>0</td>\n",
              "      <td>0</td>\n",
              "      <td>2007</td>\n",
              "      <td>20.41</td>\n",
              "      <td>11</td>\n",
              "      <td>2.85</td>\n",
              "      <td>16</td>\n",
              "      <td>11.97</td>\n",
              "      <td>29</td>\n",
              "      <td>15.39</td>\n",
              "      <td>23</td>\n",
              "      <td>1</td>\n",
              "    </tr>\n",
              "    <tr>\n",
              "      <th>375</th>\n",
              "      <td>5570</td>\n",
              "      <td>Newcastle</td>\n",
              "      <td>Wigan</td>\n",
              "      <td>2</td>\n",
              "      <td>1</td>\n",
              "      <td>55.3</td>\n",
              "      <td>44.7</td>\n",
              "      <td>5</td>\n",
              "      <td>4</td>\n",
              "      <td>8</td>\n",
              "      <td>13</td>\n",
              "      <td>519</td>\n",
              "      <td>448</td>\n",
              "      <td>352</td>\n",
              "      <td>278</td>\n",
              "      <td>27</td>\n",
              "      <td>33</td>\n",
              "      <td>15</td>\n",
              "      <td>16</td>\n",
              "      <td>4</td>\n",
              "      <td>11</td>\n",
              "      <td>6</td>\n",
              "      <td>3</td>\n",
              "      <td>1</td>\n",
              "      <td>2</td>\n",
              "      <td>18</td>\n",
              "      <td>19</td>\n",
              "      <td>0</td>\n",
              "      <td>0</td>\n",
              "      <td>2007</td>\n",
              "      <td>36.34</td>\n",
              "      <td>8</td>\n",
              "      <td>12.74</td>\n",
              "      <td>14</td>\n",
              "      <td>29.24</td>\n",
              "      <td>23</td>\n",
              "      <td>27.73</td>\n",
              "      <td>25</td>\n",
              "      <td>1</td>\n",
              "    </tr>\n",
              "    <tr>\n",
              "      <th>376</th>\n",
              "      <td>5571</td>\n",
              "      <td>Portsmouth</td>\n",
              "      <td>Blackburn</td>\n",
              "      <td>3</td>\n",
              "      <td>0</td>\n",
              "      <td>44.3</td>\n",
              "      <td>55.7</td>\n",
              "      <td>11</td>\n",
              "      <td>3</td>\n",
              "      <td>21</td>\n",
              "      <td>8</td>\n",
              "      <td>415</td>\n",
              "      <td>527</td>\n",
              "      <td>279</td>\n",
              "      <td>327</td>\n",
              "      <td>23</td>\n",
              "      <td>19</td>\n",
              "      <td>15</td>\n",
              "      <td>28</td>\n",
              "      <td>6</td>\n",
              "      <td>2</td>\n",
              "      <td>5</td>\n",
              "      <td>0</td>\n",
              "      <td>2</td>\n",
              "      <td>0</td>\n",
              "      <td>22</td>\n",
              "      <td>17</td>\n",
              "      <td>0</td>\n",
              "      <td>1</td>\n",
              "      <td>2007</td>\n",
              "      <td>10.37</td>\n",
              "      <td>28</td>\n",
              "      <td>1.43</td>\n",
              "      <td>32</td>\n",
              "      <td>18.84</td>\n",
              "      <td>21</td>\n",
              "      <td>19.28</td>\n",
              "      <td>25</td>\n",
              "      <td>1</td>\n",
              "    </tr>\n",
              "    <tr>\n",
              "      <th>...</th>\n",
              "      <td>...</td>\n",
              "      <td>...</td>\n",
              "      <td>...</td>\n",
              "      <td>...</td>\n",
              "      <td>...</td>\n",
              "      <td>...</td>\n",
              "      <td>...</td>\n",
              "      <td>...</td>\n",
              "      <td>...</td>\n",
              "      <td>...</td>\n",
              "      <td>...</td>\n",
              "      <td>...</td>\n",
              "      <td>...</td>\n",
              "      <td>...</td>\n",
              "      <td>...</td>\n",
              "      <td>...</td>\n",
              "      <td>...</td>\n",
              "      <td>...</td>\n",
              "      <td>...</td>\n",
              "      <td>...</td>\n",
              "      <td>...</td>\n",
              "      <td>...</td>\n",
              "      <td>...</td>\n",
              "      <td>...</td>\n",
              "      <td>...</td>\n",
              "      <td>...</td>\n",
              "      <td>...</td>\n",
              "      <td>...</td>\n",
              "      <td>...</td>\n",
              "      <td>...</td>\n",
              "      <td>...</td>\n",
              "      <td>...</td>\n",
              "      <td>...</td>\n",
              "      <td>...</td>\n",
              "      <td>...</td>\n",
              "      <td>...</td>\n",
              "      <td>...</td>\n",
              "      <td>...</td>\n",
              "      <td>...</td>\n",
              "    </tr>\n",
              "    <tr>\n",
              "      <th>4181</th>\n",
              "      <td>22717</td>\n",
              "      <td>Newcastle</td>\n",
              "      <td>Chelsea</td>\n",
              "      <td>3</td>\n",
              "      <td>0</td>\n",
              "      <td>41.9</td>\n",
              "      <td>58.1</td>\n",
              "      <td>6</td>\n",
              "      <td>2</td>\n",
              "      <td>16</td>\n",
              "      <td>6</td>\n",
              "      <td>585</td>\n",
              "      <td>764</td>\n",
              "      <td>406</td>\n",
              "      <td>569</td>\n",
              "      <td>19</td>\n",
              "      <td>18</td>\n",
              "      <td>10</td>\n",
              "      <td>37</td>\n",
              "      <td>4</td>\n",
              "      <td>2</td>\n",
              "      <td>0</td>\n",
              "      <td>2</td>\n",
              "      <td>0</td>\n",
              "      <td>1</td>\n",
              "      <td>11</td>\n",
              "      <td>10</td>\n",
              "      <td>0</td>\n",
              "      <td>0</td>\n",
              "      <td>2018</td>\n",
              "      <td>50.50</td>\n",
              "      <td>30</td>\n",
              "      <td>22.25</td>\n",
              "      <td>30</td>\n",
              "      <td>297.08</td>\n",
              "      <td>43</td>\n",
              "      <td>228.68</td>\n",
              "      <td>30</td>\n",
              "      <td>1</td>\n",
              "    </tr>\n",
              "    <tr>\n",
              "      <th>4182</th>\n",
              "      <td>22718</td>\n",
              "      <td>Southampton</td>\n",
              "      <td>Man City</td>\n",
              "      <td>0</td>\n",
              "      <td>1</td>\n",
              "      <td>30.3</td>\n",
              "      <td>69.7</td>\n",
              "      <td>3</td>\n",
              "      <td>2</td>\n",
              "      <td>8</td>\n",
              "      <td>13</td>\n",
              "      <td>441</td>\n",
              "      <td>782</td>\n",
              "      <td>259</td>\n",
              "      <td>583</td>\n",
              "      <td>24</td>\n",
              "      <td>13</td>\n",
              "      <td>30</td>\n",
              "      <td>21</td>\n",
              "      <td>1</td>\n",
              "      <td>12</td>\n",
              "      <td>4</td>\n",
              "      <td>2</td>\n",
              "      <td>3</td>\n",
              "      <td>2</td>\n",
              "      <td>8</td>\n",
              "      <td>10</td>\n",
              "      <td>0</td>\n",
              "      <td>0</td>\n",
              "      <td>2018</td>\n",
              "      <td>69.83</td>\n",
              "      <td>13</td>\n",
              "      <td>112.12</td>\n",
              "      <td>14</td>\n",
              "      <td>361.95</td>\n",
              "      <td>38</td>\n",
              "      <td>104.14</td>\n",
              "      <td>34</td>\n",
              "      <td>-1</td>\n",
              "    </tr>\n",
              "    <tr>\n",
              "      <th>4183</th>\n",
              "      <td>22719</td>\n",
              "      <td>Swansea</td>\n",
              "      <td>Stoke</td>\n",
              "      <td>1</td>\n",
              "      <td>2</td>\n",
              "      <td>57.6</td>\n",
              "      <td>42.4</td>\n",
              "      <td>11</td>\n",
              "      <td>5</td>\n",
              "      <td>27</td>\n",
              "      <td>8</td>\n",
              "      <td>744</td>\n",
              "      <td>612</td>\n",
              "      <td>544</td>\n",
              "      <td>414</td>\n",
              "      <td>16</td>\n",
              "      <td>21</td>\n",
              "      <td>4</td>\n",
              "      <td>43</td>\n",
              "      <td>6</td>\n",
              "      <td>0</td>\n",
              "      <td>1</td>\n",
              "      <td>5</td>\n",
              "      <td>1</td>\n",
              "      <td>2</td>\n",
              "      <td>12</td>\n",
              "      <td>9</td>\n",
              "      <td>0</td>\n",
              "      <td>0</td>\n",
              "      <td>2018</td>\n",
              "      <td>83.66</td>\n",
              "      <td>23</td>\n",
              "      <td>92.45</td>\n",
              "      <td>25</td>\n",
              "      <td>65.78</td>\n",
              "      <td>18</td>\n",
              "      <td>40.06</td>\n",
              "      <td>18</td>\n",
              "      <td>-1</td>\n",
              "    </tr>\n",
              "    <tr>\n",
              "      <th>4184</th>\n",
              "      <td>22720</td>\n",
              "      <td>Spurs</td>\n",
              "      <td>Leicester</td>\n",
              "      <td>5</td>\n",
              "      <td>4</td>\n",
              "      <td>64.0</td>\n",
              "      <td>36.0</td>\n",
              "      <td>6</td>\n",
              "      <td>9</td>\n",
              "      <td>14</td>\n",
              "      <td>17</td>\n",
              "      <td>672</td>\n",
              "      <td>453</td>\n",
              "      <td>480</td>\n",
              "      <td>265</td>\n",
              "      <td>20</td>\n",
              "      <td>23</td>\n",
              "      <td>17</td>\n",
              "      <td>19</td>\n",
              "      <td>4</td>\n",
              "      <td>4</td>\n",
              "      <td>2</td>\n",
              "      <td>4</td>\n",
              "      <td>1</td>\n",
              "      <td>2</td>\n",
              "      <td>9</td>\n",
              "      <td>13</td>\n",
              "      <td>0</td>\n",
              "      <td>0</td>\n",
              "      <td>2018</td>\n",
              "      <td>138.51</td>\n",
              "      <td>14</td>\n",
              "      <td>118.33</td>\n",
              "      <td>11</td>\n",
              "      <td>100.14</td>\n",
              "      <td>17</td>\n",
              "      <td>54.61</td>\n",
              "      <td>15</td>\n",
              "      <td>1</td>\n",
              "    </tr>\n",
              "    <tr>\n",
              "      <th>4185</th>\n",
              "      <td>22721</td>\n",
              "      <td>West Ham</td>\n",
              "      <td>Everton</td>\n",
              "      <td>3</td>\n",
              "      <td>1</td>\n",
              "      <td>56.6</td>\n",
              "      <td>43.4</td>\n",
              "      <td>4</td>\n",
              "      <td>7</td>\n",
              "      <td>15</td>\n",
              "      <td>14</td>\n",
              "      <td>652</td>\n",
              "      <td>528</td>\n",
              "      <td>479</td>\n",
              "      <td>365</td>\n",
              "      <td>11</td>\n",
              "      <td>10</td>\n",
              "      <td>20</td>\n",
              "      <td>21</td>\n",
              "      <td>6</td>\n",
              "      <td>6</td>\n",
              "      <td>4</td>\n",
              "      <td>1</td>\n",
              "      <td>0</td>\n",
              "      <td>1</td>\n",
              "      <td>10</td>\n",
              "      <td>13</td>\n",
              "      <td>0</td>\n",
              "      <td>0</td>\n",
              "      <td>2018</td>\n",
              "      <td>64.75</td>\n",
              "      <td>16</td>\n",
              "      <td>78.69</td>\n",
              "      <td>23</td>\n",
              "      <td>231.65</td>\n",
              "      <td>25</td>\n",
              "      <td>144.19</td>\n",
              "      <td>21</td>\n",
              "      <td>1</td>\n",
              "    </tr>\n",
              "  </tbody>\n",
              "</table>\n",
              "<p>4556 rows × 39 columns</p>\n",
              "</div>"
            ],
            "text/plain": [
              "      MatchID    Home_team    Away_team  ...  Income_away  Departures_away  target\n",
              "373      5567      Arsenal  Aston Villa  ...         2.08               18       0\n",
              "379      5568       Bolton        Spurs  ...        44.06               23       1\n",
              "374      5569      Everton      Watford  ...        15.39               23       1\n",
              "375      5570    Newcastle        Wigan  ...        27.73               25       1\n",
              "376      5571   Portsmouth    Blackburn  ...        19.28               25       1\n",
              "...       ...          ...          ...  ...          ...              ...     ...\n",
              "4181    22717    Newcastle      Chelsea  ...       228.68               30       1\n",
              "4182    22718  Southampton     Man City  ...       104.14               34      -1\n",
              "4183    22719      Swansea        Stoke  ...        40.06               18      -1\n",
              "4184    22720        Spurs    Leicester  ...        54.61               15       1\n",
              "4185    22721     West Ham      Everton  ...       144.19               21       1\n",
              "\n",
              "[4556 rows x 39 columns]"
            ]
          },
          "metadata": {
            "tags": []
          },
          "execution_count": 27
        }
      ]
    },
    {
      "cell_type": "code",
      "metadata": {
        "id": "xOm6J4A-1kfe"
      },
      "source": [
        ""
      ],
      "execution_count": null,
      "outputs": []
    },
    {
      "cell_type": "code",
      "metadata": {
        "id": "f-xRdFRNXy0q",
        "colab": {
          "base_uri": "https://localhost:8080/"
        },
        "outputId": "2dd83deb-2374-492d-9220-049556d86efe"
      },
      "source": [
        "df.columns"
      ],
      "execution_count": null,
      "outputs": [
        {
          "output_type": "execute_result",
          "data": {
            "text/plain": [
              "Index(['MatchID', 'Home_team', 'Away_team', 'Score_home', 'Score_away',\n",
              "       'Possession_home', 'Possession_away', 'Shots_on_target_home',\n",
              "       'Shots_on_target_away', 'Shots_home', 'Shots_away', 'Touches_home',\n",
              "       'Touches_away', 'Passes_home', 'Passes_away', 'Tackles_home',\n",
              "       'Tackles_away', 'Clearances_home', 'Clearances_away', 'Corners_home',\n",
              "       'Corners_away', 'Offsides_home', 'Offsides_away', 'Yellow_cards_home',\n",
              "       'Yellow_cards_away', 'Fouls_conceded_home', 'Fouls_conceded_away',\n",
              "       'Red_cards_home', 'Red_cards_away', 'year', 'Expenditures_home',\n",
              "       'Arrivals_home', 'Income_home', 'Departures_home', 'Expenditures_away',\n",
              "       'Arrivals_away', 'Income_away', 'Departures_away', 'target'],\n",
              "      dtype='object')"
            ]
          },
          "metadata": {
            "tags": []
          },
          "execution_count": 5
        }
      ]
    },
    {
      "cell_type": "code",
      "metadata": {
        "id": "LjnjKjvmXy0s"
      },
      "source": [
        "#Removing non important features\n",
        "columns_to_drop = ['MatchID', 'Home_team', 'Away_team', 'Score_home', 'Score_away', 'year']\n",
        "df_mod = df.drop(columns = columns_to_drop)"
      ],
      "execution_count": null,
      "outputs": []
    },
    {
      "cell_type": "markdown",
      "metadata": {
        "id": "rx8Pe35fXy0w"
      },
      "source": [
        "We will now analyze correlation between different features."
      ]
    },
    {
      "cell_type": "code",
      "metadata": {
        "id": "7qpEFqZGXy0w",
        "colab": {
          "base_uri": "https://localhost:8080/",
          "height": 550
        },
        "outputId": "fb5017b5-335c-4d75-ce21-7afe6745f863"
      },
      "source": [
        "import seaborn as sns\n",
        "away_features = [f for f in list(df) if '_away' in f]\n",
        "corr = df[away_features].corr()\n",
        "plt.figure(figsize = (8,8))\n",
        "sns.heatmap(corr, square=True, cmap=\"YlGnBu\",linewidths=0.1)\n",
        "plt.show()\n"
      ],
      "execution_count": null,
      "outputs": [
        {
          "output_type": "display_data",
          "data": {
            "image/png": "[encoded data removed]",
            "text/plain": [
              "<Figure size 576x576 with 2 Axes>"
            ]
          },
          "metadata": {
            "tags": [],
            "needs_background": "light"
          }
        }
      ]
    },
    {
      "cell_type": "markdown",
      "metadata": {
        "id": "f7qpywJ8Xy0z"
      },
      "source": [
        "Examples of few features that looks strongly correlated are:\n",
        "1) Possession home and touches/passes home,\n",
        "2) Shots home and Shots on target home,\n",
        "3) Score home and Shots on target.\n",
        "These are intuitive as more possession leads to more touches."
      ]
    },
    {
      "cell_type": "code",
      "metadata": {
        "id": "nRyqIWKUXy0z",
        "colab": {
          "base_uri": "https://localhost:8080/",
          "height": 879
        },
        "outputId": "7e2c0890-6bc7-4327-da3b-9358f29f440c"
      },
      "source": [
        "import matplotlib.pyplot as plt\n",
        "home_features = [f for f in list(df_mod) if '_home' in f]\n",
        "n_figs = len(home_features)\n",
        "columns = 4\n",
        "\n",
        "fig, axes = plt.subplots(int(n_figs/columns), columns, figsize = (15,15))\n",
        "plt.subplots_adjust(hspace=.5)\n",
        "\n",
        "\n",
        "for i,feature in enumerate(home_features):\n",
        "    row = int(i/columns)\n",
        "    column = i%columns\n",
        "    axes[row, column].hist(df[feature].values, 20)\n",
        "    axes[row, column].set_title(feature)"
      ],
      "execution_count": null,
      "outputs": [
        {
          "output_type": "display_data",
          "data": {
            "image/png": "[encoded data removed]",
            "text/plain": [
              "<Figure size 1080x1080 with 16 Axes>"
            ]
          },
          "metadata": {
            "tags": [],
            "needs_background": "light"
          }
        }
      ]
    },
    {
      "cell_type": "code",
      "metadata": {
        "id": "WvdHkaY7Xy02",
        "colab": {
          "base_uri": "https://localhost:8080/",
          "height": 879
        },
        "outputId": "ac36bf98-e2d7-4de2-fb1f-4d847a2dd390"
      },
      "source": [
        "n_figs = len(away_features)\n",
        "columns = 4\n",
        "\n",
        "fig, axes = plt.subplots(int(n_figs/columns), columns, figsize = (15,15))\n",
        "plt.subplots_adjust(hspace=.5)\n",
        "\n",
        "away_features = [f for f in list(df_mod) if '_away' in f]\n",
        "for i,feature in enumerate(away_features):\n",
        "    row = int(i/columns)\n",
        "    column = i%columns\n",
        "    axes[row, column].hist(df[feature].values, 20)\n",
        "    axes[row, column].set_title(feature)"
      ],
      "execution_count": null,
      "outputs": [
        {
          "output_type": "display_data",
          "data": {
            "image/png": "[encoded data removed]",
            "text/plain": [
              "<Figure size 1080x1080 with 16 Axes>"
            ]
          },
          "metadata": {
            "tags": [],
            "needs_background": "light"
          }
        }
      ]
    },
    {
      "cell_type": "code",
      "metadata": {
        "id": "TSeKqHwKXy05",
        "colab": {
          "base_uri": "https://localhost:8080/",
          "height": 496
        },
        "outputId": "002fc930-cfcd-4425-ef34-6bf717614c37"
      },
      "source": [
        "#lets see target distribution\n",
        "plt.figure(figsize=(8,7))\n",
        "sns.distplot(df.target)\n",
        "plt.show()"
      ],
      "execution_count": null,
      "outputs": [
        {
          "output_type": "stream",
          "text": [
            "/usr/local/lib/python3.6/dist-packages/seaborn/distributions.py:2551: FutureWarning: `distplot` is a deprecated function and will be removed in a future version. Please adapt your code to use either `displot` (a figure-level function with similar flexibility) or `histplot` (an axes-level function for histograms).\n",
            "  warnings.warn(msg, FutureWarning)\n"
          ],
          "name": "stderr"
        },
        {
          "output_type": "display_data",
          "data": {
            "image/png": "[encoded data removed]",
            "text/plain": [
              "<Figure size 576x504 with 1 Axes>"
            ]
          },
          "metadata": {
            "tags": [],
            "needs_background": "light"
          }
        }
      ]
    },
    {
      "cell_type": "markdown",
      "metadata": {
        "id": "_-Q5ieFoXy08"
      },
      "source": [
        "Seems like home team wins more than away which is shown by more 1s."
      ]
    },
    {
      "cell_type": "code",
      "metadata": {
        "id": "ilFYSUSCXy08",
        "colab": {
          "base_uri": "https://localhost:8080/"
        },
        "outputId": "b355f4d0-0a6e-4132-e28d-e3e530100d4c"
      },
      "source": [
        "from sklearn.ensemble import RandomForestClassifier\n",
        "from sklearn.model_selection import train_test_split\n",
        "import numpy as np\n",
        "\n",
        "df_mod = df_mod.drop(columns = ['target'])\n",
        "X = df_mod.values\n",
        "y = df['target'].values\n",
        "features = df_mod.columns\n",
        "forest = RandomForestClassifier(n_estimators=500, random_state=43)\n",
        "X_train, X_test, y_train, y_test = train_test_split(X, y, test_size=.2, random_state=43)\n",
        "\n",
        "forest.fit(X_train, y_train)\n",
        "\n",
        "importances = forest.feature_importances_\n",
        "indices = np.argsort(importances)[::-1]\n",
        "\n",
        "for f in range(X_train.shape[1]):\n",
        "    print(\"%2d) %-*s %f\" % (f + 1, 30,features[indices[f]], importances[indices[f]]))"
      ],
      "execution_count": null,
      "outputs": [
        {
          "output_type": "stream",
          "text": [
            " 1) Shots_on_target_home           0.073068\n",
            " 2) Clearances_away                0.064972\n",
            " 3) Shots_on_target_away           0.058568\n",
            " 4) Clearances_home                0.050302\n",
            " 5) Expenditures_away              0.039533\n",
            " 6) Expenditures_home              0.038386\n",
            " 7) Passes_away                    0.036948\n",
            " 8) Income_away                    0.036030\n",
            " 9) Touches_away                   0.035701\n",
            "10) Passes_home                    0.035578\n",
            "11) Income_home                    0.034710\n",
            "12) Touches_home                   0.032749\n",
            "13) Shots_home                     0.032306\n",
            "14) Shots_away                     0.031355\n",
            "15) Possession_away                0.029745\n",
            "16) Possession_home                0.029692\n",
            "17) Tackles_away                   0.028653\n",
            "18) Tackles_home                   0.028334\n",
            "19) Arrivals_away                  0.027865\n",
            "20) Arrivals_home                  0.027565\n",
            "21) Departures_home                0.027099\n",
            "22) Departures_away                0.026871\n",
            "23) Fouls_conceded_away            0.025810\n",
            "24) Fouls_conceded_home            0.025579\n",
            "25) Corners_home                   0.022296\n",
            "26) Corners_away                   0.021941\n",
            "27) Offsides_home                  0.019105\n",
            "28) Offsides_away                  0.018365\n",
            "29) Yellow_cards_away              0.016599\n",
            "30) Yellow_cards_home              0.016296\n",
            "31) Red_cards_home                 0.005184\n",
            "32) Red_cards_away                 0.002795\n"
          ],
          "name": "stdout"
        }
      ]
    },
    {
      "cell_type": "markdown",
      "metadata": {
        "id": "4aStEvn1Xy0_"
      },
      "source": [
        "Red card have significant effect on game but here is least significant because of rare occurence."
      ]
    },
    {
      "cell_type": "code",
      "metadata": {
        "id": "xmt-3cShKyrR"
      },
      "source": [
        "def goal_diff(scores):\n",
        "    gd_dict = {}\n",
        "    for game in scores:\n",
        "        id, home_team, away_team, home_goals, away_goals = game\n",
        "        score = home_goals - away_goals# in perspective of home team\n",
        "        gd_dict[home_team] = gd_dict.get(home_team, []) + [(id,score)]\n",
        "        gd_dict[away_team] = gd_dict.get(away_team, []) + [(id, -1*score)]\n",
        "    return gd_dict"
      ],
      "execution_count": null,
      "outputs": []
    },
    {
      "cell_type": "code",
      "metadata": {
        "id": "YZrRrgY7K19Z"
      },
      "source": [
        "def get_window(matchID, team, gd_vectors, window=5, boolean=False):\n",
        "    team_results = gd_vectors[team]\n",
        "    idx = -1\n",
        "    for i, result in enumerate(team_results):\n",
        "        if result[0] == matchID:\n",
        "            id = i\n",
        "            break\n",
        "    if idx < window-1:\n",
        "        return None\n",
        "    return [team_results[i][1] for i in range(idx-window, idx)]"
      ],
      "execution_count": null,
      "outputs": []
    },
    {
      "cell_type": "code",
      "metadata": {
        "id": "cSig6tg-K4ms"
      },
      "source": [
        "import math\n",
        "def form_values_exp(matchID, team, gd, alpha, boolean=True):\n",
        "    avg_vec, i = [], 1\n",
        "    while sum(avg_vec) < 1:\n",
        "        avg_vec.append(math.e ** (-1*(alpha*i)))\n",
        "        i += 1\n",
        "    avg_vec = sorted(avg_vec)\n",
        "    previous_results = get_window(matchID, team, gd, len(avg_vec), boolean)\n",
        "    if not previous_results:\n",
        "        return 0\n",
        "    return np.dot(np.array(avg_vec), np.array(previous_results))"
      ],
      "execution_count": null,
      "outputs": []
    },
    {
      "cell_type": "markdown",
      "metadata": {
        "id": "plkcJWNjLCRh"
      },
      "source": [
        "Include a special feauture called form (streak) from past 5 games."
      ]
    },
    {
      "cell_type": "code",
      "metadata": {
        "id": "BsQrE1l5K7aE"
      },
      "source": [
        "scores = df[['MatchID', 'Home_team', 'Away_team', 'Score_home', 'Score_away']].values\n",
        "gd = goal_diff(scores)\n",
        "\n",
        "home_form, away_form = [], []\n",
        "for game in scores:\n",
        "    id, home_team, away_team, home_score, away_score = game\n",
        "    home_form.append(form_values_exp(id, home_team, gd, alpha=.5))\n",
        "    away_form.append(form_values_exp(id, away_team, gd, alpha=.5))\n",
        "    \n",
        "df['form_home'] = pd.Series(home_form)\n",
        "df['form_away'] = pd.Series(away_form)"
      ],
      "execution_count": null,
      "outputs": []
    },
    {
      "cell_type": "code",
      "metadata": {
        "id": "CINxD055Xy1A"
      },
      "source": [
        "from sklearn.linear_model import LogisticRegression\n",
        "from sklearn.neighbors import KNeighborsClassifier\n",
        "from sklearn.ensemble import GradientBoostingClassifier\n",
        "from sklearn import svm\n",
        "from sklearn.neural_network import MLPClassifier"
      ],
      "execution_count": null,
      "outputs": []
    },
    {
      "cell_type": "code",
      "metadata": {
        "id": "cTVSeK8AXy1C"
      },
      "source": [
        "lr = LogisticRegression(random_state=0, solver='lbfgs', max_iter=10000, multi_class='multinomial')\n",
        "rf = RandomForestClassifier(n_estimators=1000, max_depth=10, random_state=0)\n",
        "gb = GradientBoostingClassifier()\n",
        "SVM = svm.SVC(decision_function_shape='ovo')\n",
        "# NN = MLPClassifier(solver='lbfgs', alpha=1e-4, max_iter=1000, hidden_layer_sizes=(150,10), random_state=1)\n",
        "NN = MLPClassifier(solver='lbfgs', alpha=1e-4, max_iter=1000, hidden_layer_sizes=(80,4), random_state=1)\n",
        "\n",
        "clf_labels = ['Logistic Regression', 'Random Forest', 'Gradient Boosting', 'Support Vector Machines', 'Neural Network']\n",
        "all_clf = [lr, rf, gb, SVM, NN]"
      ],
      "execution_count": null,
      "outputs": []
    },
    {
      "cell_type": "code",
      "metadata": {
        "id": "e2lnrF0AXy1E"
      },
      "source": [
        "#PCA\n",
        "from sklearn.preprocessing import StandardScaler\n",
        "from sklearn.decomposition import PCA\n",
        "\n",
        "sc = StandardScaler()\n",
        "X_train_std = sc.fit_transform(X_train)\n",
        "X_test_std = sc.transform(X_test)"
      ],
      "execution_count": null,
      "outputs": []
    },
    {
      "cell_type": "code",
      "metadata": {
        "id": "oPE_jUgDXy1G",
        "colab": {
          "base_uri": "https://localhost:8080/",
          "height": 279
        },
        "outputId": "4df8c2ee-064f-42cb-8822-d0842e015412"
      },
      "source": [
        "pca = PCA()\n",
        "X_train_pca = pca.fit_transform(X_train_std)\n",
        "X_test_pca = pca.fit_transform(X_test_std)\n",
        "\n",
        "plt.bar(range(1,33), pca.explained_variance_ratio_, alpha=0.5, align='center')\n",
        "plt.step(range(1,33), np.cumsum(pca.explained_variance_ratio_), where='mid')\n",
        "plt.ylabel('Explained Variance Ratio')\n",
        "plt.xlabel('Principal Components')\n",
        "plt.show()"
      ],
      "execution_count": null,
      "outputs": [
        {
          "output_type": "display_data",
          "data": {
            "image/png": "[encoded data removed]",
            "text/plain": [
              "<Figure size 432x288 with 1 Axes>"
            ]
          },
          "metadata": {
            "tags": [],
            "needs_background": "light"
          }
        }
      ]
    },
    {
      "cell_type": "markdown",
      "metadata": {
        "id": "WmTdItE6Xy1K"
      },
      "source": [
        "With around 10 components we see 60% explained variance, with around 15 components around 80% of explained variance and somewhere with 25 components around 90% of explained variance."
      ]
    },
    {
      "cell_type": "code",
      "metadata": {
        "id": "yLQF20fTXy1L",
        "colab": {
          "base_uri": "https://localhost:8080/"
        },
        "outputId": "746ef8fb-adce-4cb5-9248-6c452dd641c3"
      },
      "source": [
        "pca_15 = PCA(n_components = 15)\n",
        "X_train_pca_15 = pca_15.fit_transform(X_train_std)\n",
        "X_test_pca_15 = pca_15.transform(X_test_std)\n",
        "\n",
        "pca_20 = PCA(n_components=20)\n",
        "X_train_pca_20 = pca_20.fit_transform(X_train_std)\n",
        "X_test_pca_20 = pca_20.transform(X_test_std)\n",
        "\n",
        "pca_25 = PCA(n_components = 25)\n",
        "X_train_pca_25 = pca_25.fit_transform(X_train_std)\n",
        "X_test_pca_25 = pca_25.transform(X_test_std)\n",
        "\n",
        "\n",
        "for label,clf in zip(clf_labels, all_clf):\n",
        "    print('Model:', label)\n",
        "    model_orig = clf.fit(X_train, y_train)\n",
        "    print(\"Score in original dimension: \", model_orig.score(X_test, y_test))\n",
        "    model_pca_15 = clf.fit(X_train_pca_15, y_train)\n",
        "    print(\"Score in reduced dimension with 15 components: \", model_pca_15.score(X_test_pca_15, y_test))\n",
        "    model_pca_20 = clf.fit(X_train_pca_20, y_train)\n",
        "    print(\"Score in reduced dimension with 20 components: \", model_pca_20.score(X_test_pca_20, y_test))\n",
        "    model_pca_25 = clf.fit(X_train_pca_25, y_train)\n",
        "    print(\"Score in reduced dimension with 25 components: \", model_pca_25.score(X_test_pca_25, y_test), \"\\n\")\n",
        "\n"
      ],
      "execution_count": null,
      "outputs": [
        {
          "output_type": "stream",
          "text": [
            "Model: Logistic Regression\n",
            "Score in original dimension:  0.6260964912280702\n",
            "Score in reduced dimension with 15 components:  0.6019736842105263\n",
            "Score in reduced dimension with 20 components:  0.6052631578947368\n",
            "Score in reduced dimension with 25 components:  0.6129385964912281 \n",
            "\n",
            "Model: Random Forest\n",
            "Score in original dimension:  0.625\n",
            "Score in reduced dimension with 15 components:  0.5964912280701754\n",
            "Score in reduced dimension with 20 components:  0.606359649122807\n",
            "Score in reduced dimension with 25 components:  0.6151315789473685 \n",
            "\n",
            "Model: Gradient Boosting\n",
            "Score in original dimension:  0.631578947368421\n",
            "Score in reduced dimension with 15 components:  0.606359649122807\n",
            "Score in reduced dimension with 20 components:  0.5997807017543859\n",
            "Score in reduced dimension with 25 components:  0.6041666666666666 \n",
            "\n",
            "Model: Support Vector Machines\n",
            "Score in original dimension:  0.5241228070175439\n",
            "Score in reduced dimension with 15 components:  0.6162280701754386\n",
            "Score in reduced dimension with 20 components:  0.6140350877192983\n",
            "Score in reduced dimension with 25 components:  0.618421052631579 \n",
            "\n",
            "Model: Neural Network\n",
            "Score in original dimension:  0.28618421052631576\n"
          ],
          "name": "stdout"
        },
        {
          "output_type": "stream",
          "text": [
            "/usr/local/lib/python3.6/dist-packages/sklearn/neural_network/_multilayer_perceptron.py:470: ConvergenceWarning: lbfgs failed to converge (status=1):\n",
            "STOP: TOTAL NO. of ITERATIONS REACHED LIMIT.\n",
            "\n",
            "Increase the number of iterations (max_iter) or scale the data as shown in:\n",
            "    https://scikit-learn.org/stable/modules/preprocessing.html\n",
            "  self.n_iter_ = _check_optimize_result(\"lbfgs\", opt_res, self.max_iter)\n"
          ],
          "name": "stderr"
        },
        {
          "output_type": "stream",
          "text": [
            "Score in reduced dimension with 15 components:  0.5164473684210527\n"
          ],
          "name": "stdout"
        },
        {
          "output_type": "stream",
          "text": [
            "/usr/local/lib/python3.6/dist-packages/sklearn/neural_network/_multilayer_perceptron.py:470: ConvergenceWarning: lbfgs failed to converge (status=1):\n",
            "STOP: TOTAL NO. of ITERATIONS REACHED LIMIT.\n",
            "\n",
            "Increase the number of iterations (max_iter) or scale the data as shown in:\n",
            "    https://scikit-learn.org/stable/modules/preprocessing.html\n",
            "  self.n_iter_ = _check_optimize_result(\"lbfgs\", opt_res, self.max_iter)\n"
          ],
          "name": "stderr"
        },
        {
          "output_type": "stream",
          "text": [
            "Score in reduced dimension with 20 components:  0.5252192982456141\n",
            "Score in reduced dimension with 25 components:  0.5219298245614035 \n",
            "\n"
          ],
          "name": "stdout"
        }
      ]
    },
    {
      "cell_type": "markdown",
      "metadata": {
        "id": "1esgNKNNXy1Q"
      },
      "source": [
        "Reducing dimension by PCA does not do much good to our model. We get best performance while using Gradient Boosting with full dimensions or Linear Regression with 15 dimensions. We can keep 15 components."
      ]
    },
    {
      "cell_type": "code",
      "metadata": {
        "colab": {
          "base_uri": "https://localhost:8080/"
        },
        "id": "-woMFT7dZ-Zd",
        "outputId": "48002f35-12ea-4532-c5b3-9d518ad3e295"
      },
      "source": [
        "# NN = MLPClassifier(solver='lbfgs', alpha=1e-3, max_iter=10000, hidden_layer_sizes=(1000,10), random_state=1)\n",
        "# model_temp = NN.fit(X_train, y_train)\n",
        "# print(\"Score in original dimension: \", model_temp.score(X_test, y_test))\n",
        "# NN = MLPClassifier(solver='lbfgs', alpha=1e-3, max_iter=10000, hidden_layer_sizes=(200,2), random_state=1)\n",
        "# model_temp = NN.fit(X_train, y_train)\n",
        "# print(\"Score in original dimension: \", model_temp.score(X_test, y_test))\n",
        "# NN = MLPClassifier(solver='lbfgs', alpha=1e-3, max_iter=10000, hidden_layer_sizes=(300,3), random_state=1)\n",
        "# model_temp = NN.fit(X_train, y_train)\n",
        "# print(\"Score in original dimension: \", model_temp.score(X_test, y_test))\n",
        "# NN = MLPClassifier(solver='lbfgs', alpha=1e-3, max_iter=10000, hidden_layer_sizes=(400,4), random_state=1)\n",
        "# model_temp = NN.fit(X_train, y_train)\n",
        "# print(\"Score in original dimension: \", model_temp.score(X_test, y_test))\n",
        "# NN = MLPClassifier(solver='lbfgs', alpha=1e-3, max_iter=10000, hidden_layer_sizes=(500,5), random_state=1)\n",
        "# model_temp = NN.fit(X_train, y_train)\n",
        "# print(\"Score in original dimension: \", model_temp.score(X_test, y_test))"
      ],
      "execution_count": null,
      "outputs": [
        {
          "output_type": "stream",
          "text": [
            "/usr/local/lib/python3.6/dist-packages/sklearn/neural_network/_multilayer_perceptron.py:470: ConvergenceWarning: lbfgs failed to converge (status=1):\n",
            "STOP: TOTAL NO. of ITERATIONS REACHED LIMIT.\n",
            "\n",
            "Increase the number of iterations (max_iter) or scale the data as shown in:\n",
            "    https://scikit-learn.org/stable/modules/preprocessing.html\n",
            "  self.n_iter_ = _check_optimize_result(\"lbfgs\", opt_res, self.max_iter)\n"
          ],
          "name": "stderr"
        },
        {
          "output_type": "stream",
          "text": [
            "Score in original dimension:  0.5844298245614035\n",
            "Score in original dimension:  0.4692982456140351\n",
            "Score in original dimension:  0.4692982456140351\n",
            "Score in original dimension:  0.4594298245614035\n",
            "Score in original dimension:  0.4692982456140351\n"
          ],
          "name": "stdout"
        }
      ]
    },
    {
      "cell_type": "markdown",
      "metadata": {
        "id": "BcaMDjar6V1j"
      },
      "source": [
        "Using ensemble model"
      ]
    },
    {
      "cell_type": "code",
      "metadata": {
        "id": "-XJleuugXy1a"
      },
      "source": [
        "from sklearn.model_selection import cross_val_score\n",
        "from sklearn.ensemble import VotingClassifier\n",
        "\n",
        "estimator_list = [('lr',lr), ('rf',rf), ('gb', gb), ('SVM',SVM),('NN',NN)]\n",
        "enclf = VotingClassifier(estimators=estimator_list, voting='hard')\n",
        "scores = cross_val_score(estimator=enclf, X=X_train, y=y_train, cv=10, scoring='accuracy')\n",
        "scores"
      ],
      "execution_count": null,
      "outputs": []
    },
    {
      "cell_type": "code",
      "metadata": {
        "id": "Xoe0Nwvv_kcA",
        "colab": {
          "base_uri": "https://localhost:8080/"
        },
        "outputId": "b0847ac7-fe32-41c6-8b68-34b7f0fe3393"
      },
      "source": [
        "print(\"Accuracy: %0.2f (+/- %0.2f)\" %(scores.mean(), scores.std()))"
      ],
      "execution_count": null,
      "outputs": [
        {
          "output_type": "stream",
          "text": [
            "Accuracy: 0.64 (+/- 0.02)\n"
          ],
          "name": "stdout"
        }
      ]
    },
    {
      "cell_type": "markdown",
      "metadata": {
        "id": "GJGWBETk-pn4"
      },
      "source": [
        "**Expected Goals**\n",
        "To predict number of goals scored by each team within a single game."
      ]
    },
    {
      "cell_type": "code",
      "metadata": {
        "id": "PShRROEK_ASL",
        "colab": {
          "base_uri": "https://localhost:8080/",
          "height": 461
        },
        "outputId": "c9eecd8a-346e-4c7c-8f28-4e31e71166a0"
      },
      "source": [
        "fig, (ax1,ax2) = plt.subplots(2,1, figsize=(8,7))\n",
        "ax1.hist(df.Score_home, 20)\n",
        "ax1.set_title(\"Home Score\")\n",
        "ax2.hist(df.Score_away, 20)\n",
        "ax2.set_title(\"Away Score\")"
      ],
      "execution_count": null,
      "outputs": [
        {
          "output_type": "execute_result",
          "data": {
            "text/plain": [
              "Text(0.5, 1.0, 'Away Score')"
            ]
          },
          "metadata": {
            "tags": []
          },
          "execution_count": 48
        },
        {
          "output_type": "display_data",
          "data": {
            "image/png": "[encoded data removed]",
            "text/plain": [
              "<Figure size 576x504 with 2 Axes>"
            ]
          },
          "metadata": {
            "tags": [],
            "needs_background": "light"
          }
        }
      ]
    },
    {
      "cell_type": "markdown",
      "metadata": {
        "id": "_QLtlNN5AEmz"
      },
      "source": [
        "This distribution looks like exponential which is intuitive as it is hard to score more goals and it depends more on in-game stats of team."
      ]
    },
    {
      "cell_type": "markdown",
      "metadata": {
        "id": "pVoZIcqqlFCw"
      },
      "source": [
        "Now we will reduce features which we obtained after feature reduction techniques and correlation we looked at earlier."
      ]
    },
    {
      "cell_type": "code",
      "metadata": {
        "id": "pu8QxB-v_qxb"
      },
      "source": [
        "Target_proxies = ['MatchID', 'Team', 'year', 'Score']\n",
        "#based on correlation and feature importance\n",
        "Features_to_drop = ['Shots_home', 'Shots_away', 'Touches_home', 'Possession_home', 'Possession_away',\n",
        "'Touches_away','Tackles_home', 'Tackles_away', 'Arrivals_home', 'Arrivals_away',\n",
        "'Departures_home', 'Departures_away', 'Corners_home', 'Corners_away',\n",
        "'Red_cards_home', 'Red_cards_away', 'Yellow_cards_home', 'Yellow_cards_away', 'form_home', 'form_away']"
      ],
      "execution_count": null,
      "outputs": []
    },
    {
      "cell_type": "markdown",
      "metadata": {
        "id": "3hjaThMVovQ0"
      },
      "source": [
        "As form of Goal difference is mostly a 0 value because of exponential decrease in importance, it does not have a drastic importance. So drop it as well."
      ]
    },
    {
      "cell_type": "code",
      "metadata": {
        "id": "onqTlMdjBg3m",
        "colab": {
          "base_uri": "https://localhost:8080/",
          "height": 422
        },
        "outputId": "34e4f37a-017b-4714-d78c-ac7176a091a6"
      },
      "source": [
        "df_mod_2 = df.drop(columns=Features_to_drop)\n",
        "df_mod_2"
      ],
      "execution_count": null,
      "outputs": [
        {
          "output_type": "execute_result",
          "data": {
            "text/html": [
              "<div>\n",
              "<style scoped>\n",
              "    .dataframe tbody tr th:only-of-type {\n",
              "        vertical-align: middle;\n",
              "    }\n",
              "\n",
              "    .dataframe tbody tr th {\n",
              "        vertical-align: top;\n",
              "    }\n",
              "\n",
              "    .dataframe thead th {\n",
              "        text-align: right;\n",
              "    }\n",
              "</style>\n",
              "<table border=\"1\" class=\"dataframe\">\n",
              "  <thead>\n",
              "    <tr style=\"text-align: right;\">\n",
              "      <th></th>\n",
              "      <th>MatchID</th>\n",
              "      <th>Home_team</th>\n",
              "      <th>Away_team</th>\n",
              "      <th>Score_home</th>\n",
              "      <th>Score_away</th>\n",
              "      <th>Shots_on_target_home</th>\n",
              "      <th>Shots_on_target_away</th>\n",
              "      <th>Passes_home</th>\n",
              "      <th>Passes_away</th>\n",
              "      <th>Clearances_home</th>\n",
              "      <th>Clearances_away</th>\n",
              "      <th>Offsides_home</th>\n",
              "      <th>Offsides_away</th>\n",
              "      <th>Fouls_conceded_home</th>\n",
              "      <th>Fouls_conceded_away</th>\n",
              "      <th>year</th>\n",
              "      <th>Expenditures_home</th>\n",
              "      <th>Income_home</th>\n",
              "      <th>Expenditures_away</th>\n",
              "      <th>Income_away</th>\n",
              "      <th>target</th>\n",
              "    </tr>\n",
              "  </thead>\n",
              "  <tbody>\n",
              "    <tr>\n",
              "      <th>373</th>\n",
              "      <td>5567</td>\n",
              "      <td>Arsenal</td>\n",
              "      <td>Aston Villa</td>\n",
              "      <td>1</td>\n",
              "      <td>1</td>\n",
              "      <td>7</td>\n",
              "      <td>3</td>\n",
              "      <td>631</td>\n",
              "      <td>232</td>\n",
              "      <td>14</td>\n",
              "      <td>51</td>\n",
              "      <td>2</td>\n",
              "      <td>6</td>\n",
              "      <td>10</td>\n",
              "      <td>19</td>\n",
              "      <td>2007</td>\n",
              "      <td>17.10</td>\n",
              "      <td>14.85</td>\n",
              "      <td>28.16</td>\n",
              "      <td>2.08</td>\n",
              "      <td>0</td>\n",
              "    </tr>\n",
              "    <tr>\n",
              "      <th>379</th>\n",
              "      <td>5568</td>\n",
              "      <td>Bolton</td>\n",
              "      <td>Spurs</td>\n",
              "      <td>2</td>\n",
              "      <td>0</td>\n",
              "      <td>4</td>\n",
              "      <td>2</td>\n",
              "      <td>243</td>\n",
              "      <td>427</td>\n",
              "      <td>20</td>\n",
              "      <td>43</td>\n",
              "      <td>3</td>\n",
              "      <td>1</td>\n",
              "      <td>22</td>\n",
              "      <td>22</td>\n",
              "      <td>2007</td>\n",
              "      <td>19.38</td>\n",
              "      <td>4.39</td>\n",
              "      <td>69.54</td>\n",
              "      <td>44.06</td>\n",
              "      <td>1</td>\n",
              "    </tr>\n",
              "    <tr>\n",
              "      <th>374</th>\n",
              "      <td>5569</td>\n",
              "      <td>Everton</td>\n",
              "      <td>Watford</td>\n",
              "      <td>2</td>\n",
              "      <td>1</td>\n",
              "      <td>2</td>\n",
              "      <td>7</td>\n",
              "      <td>288</td>\n",
              "      <td>321</td>\n",
              "      <td>61</td>\n",
              "      <td>32</td>\n",
              "      <td>5</td>\n",
              "      <td>1</td>\n",
              "      <td>12</td>\n",
              "      <td>15</td>\n",
              "      <td>2007</td>\n",
              "      <td>20.41</td>\n",
              "      <td>2.85</td>\n",
              "      <td>11.97</td>\n",
              "      <td>15.39</td>\n",
              "      <td>1</td>\n",
              "    </tr>\n",
              "    <tr>\n",
              "      <th>375</th>\n",
              "      <td>5570</td>\n",
              "      <td>Newcastle</td>\n",
              "      <td>Wigan</td>\n",
              "      <td>2</td>\n",
              "      <td>1</td>\n",
              "      <td>5</td>\n",
              "      <td>4</td>\n",
              "      <td>352</td>\n",
              "      <td>278</td>\n",
              "      <td>15</td>\n",
              "      <td>16</td>\n",
              "      <td>6</td>\n",
              "      <td>3</td>\n",
              "      <td>18</td>\n",
              "      <td>19</td>\n",
              "      <td>2007</td>\n",
              "      <td>36.34</td>\n",
              "      <td>12.74</td>\n",
              "      <td>29.24</td>\n",
              "      <td>27.73</td>\n",
              "      <td>1</td>\n",
              "    </tr>\n",
              "    <tr>\n",
              "      <th>376</th>\n",
              "      <td>5571</td>\n",
              "      <td>Portsmouth</td>\n",
              "      <td>Blackburn</td>\n",
              "      <td>3</td>\n",
              "      <td>0</td>\n",
              "      <td>11</td>\n",
              "      <td>3</td>\n",
              "      <td>279</td>\n",
              "      <td>327</td>\n",
              "      <td>15</td>\n",
              "      <td>28</td>\n",
              "      <td>5</td>\n",
              "      <td>0</td>\n",
              "      <td>22</td>\n",
              "      <td>17</td>\n",
              "      <td>2007</td>\n",
              "      <td>10.37</td>\n",
              "      <td>1.43</td>\n",
              "      <td>18.84</td>\n",
              "      <td>19.28</td>\n",
              "      <td>1</td>\n",
              "    </tr>\n",
              "    <tr>\n",
              "      <th>...</th>\n",
              "      <td>...</td>\n",
              "      <td>...</td>\n",
              "      <td>...</td>\n",
              "      <td>...</td>\n",
              "      <td>...</td>\n",
              "      <td>...</td>\n",
              "      <td>...</td>\n",
              "      <td>...</td>\n",
              "      <td>...</td>\n",
              "      <td>...</td>\n",
              "      <td>...</td>\n",
              "      <td>...</td>\n",
              "      <td>...</td>\n",
              "      <td>...</td>\n",
              "      <td>...</td>\n",
              "      <td>...</td>\n",
              "      <td>...</td>\n",
              "      <td>...</td>\n",
              "      <td>...</td>\n",
              "      <td>...</td>\n",
              "      <td>...</td>\n",
              "    </tr>\n",
              "    <tr>\n",
              "      <th>4181</th>\n",
              "      <td>22717</td>\n",
              "      <td>Newcastle</td>\n",
              "      <td>Chelsea</td>\n",
              "      <td>3</td>\n",
              "      <td>0</td>\n",
              "      <td>6</td>\n",
              "      <td>2</td>\n",
              "      <td>406</td>\n",
              "      <td>569</td>\n",
              "      <td>10</td>\n",
              "      <td>37</td>\n",
              "      <td>0</td>\n",
              "      <td>2</td>\n",
              "      <td>11</td>\n",
              "      <td>10</td>\n",
              "      <td>2018</td>\n",
              "      <td>50.50</td>\n",
              "      <td>22.25</td>\n",
              "      <td>297.08</td>\n",
              "      <td>228.68</td>\n",
              "      <td>1</td>\n",
              "    </tr>\n",
              "    <tr>\n",
              "      <th>4182</th>\n",
              "      <td>22718</td>\n",
              "      <td>Southampton</td>\n",
              "      <td>Man City</td>\n",
              "      <td>0</td>\n",
              "      <td>1</td>\n",
              "      <td>3</td>\n",
              "      <td>2</td>\n",
              "      <td>259</td>\n",
              "      <td>583</td>\n",
              "      <td>30</td>\n",
              "      <td>21</td>\n",
              "      <td>4</td>\n",
              "      <td>2</td>\n",
              "      <td>8</td>\n",
              "      <td>10</td>\n",
              "      <td>2018</td>\n",
              "      <td>69.83</td>\n",
              "      <td>112.12</td>\n",
              "      <td>361.95</td>\n",
              "      <td>104.14</td>\n",
              "      <td>-1</td>\n",
              "    </tr>\n",
              "    <tr>\n",
              "      <th>4183</th>\n",
              "      <td>22719</td>\n",
              "      <td>Swansea</td>\n",
              "      <td>Stoke</td>\n",
              "      <td>1</td>\n",
              "      <td>2</td>\n",
              "      <td>11</td>\n",
              "      <td>5</td>\n",
              "      <td>544</td>\n",
              "      <td>414</td>\n",
              "      <td>4</td>\n",
              "      <td>43</td>\n",
              "      <td>1</td>\n",
              "      <td>5</td>\n",
              "      <td>12</td>\n",
              "      <td>9</td>\n",
              "      <td>2018</td>\n",
              "      <td>83.66</td>\n",
              "      <td>92.45</td>\n",
              "      <td>65.78</td>\n",
              "      <td>40.06</td>\n",
              "      <td>-1</td>\n",
              "    </tr>\n",
              "    <tr>\n",
              "      <th>4184</th>\n",
              "      <td>22720</td>\n",
              "      <td>Spurs</td>\n",
              "      <td>Leicester</td>\n",
              "      <td>5</td>\n",
              "      <td>4</td>\n",
              "      <td>6</td>\n",
              "      <td>9</td>\n",
              "      <td>480</td>\n",
              "      <td>265</td>\n",
              "      <td>17</td>\n",
              "      <td>19</td>\n",
              "      <td>2</td>\n",
              "      <td>4</td>\n",
              "      <td>9</td>\n",
              "      <td>13</td>\n",
              "      <td>2018</td>\n",
              "      <td>138.51</td>\n",
              "      <td>118.33</td>\n",
              "      <td>100.14</td>\n",
              "      <td>54.61</td>\n",
              "      <td>1</td>\n",
              "    </tr>\n",
              "    <tr>\n",
              "      <th>4185</th>\n",
              "      <td>22721</td>\n",
              "      <td>West Ham</td>\n",
              "      <td>Everton</td>\n",
              "      <td>3</td>\n",
              "      <td>1</td>\n",
              "      <td>4</td>\n",
              "      <td>7</td>\n",
              "      <td>479</td>\n",
              "      <td>365</td>\n",
              "      <td>20</td>\n",
              "      <td>21</td>\n",
              "      <td>4</td>\n",
              "      <td>1</td>\n",
              "      <td>10</td>\n",
              "      <td>13</td>\n",
              "      <td>2018</td>\n",
              "      <td>64.75</td>\n",
              "      <td>78.69</td>\n",
              "      <td>231.65</td>\n",
              "      <td>144.19</td>\n",
              "      <td>1</td>\n",
              "    </tr>\n",
              "  </tbody>\n",
              "</table>\n",
              "<p>4556 rows × 21 columns</p>\n",
              "</div>"
            ],
            "text/plain": [
              "      MatchID    Home_team    Away_team  ...  Expenditures_away  Income_away  target\n",
              "373      5567      Arsenal  Aston Villa  ...              28.16         2.08       0\n",
              "379      5568       Bolton        Spurs  ...              69.54        44.06       1\n",
              "374      5569      Everton      Watford  ...              11.97        15.39       1\n",
              "375      5570    Newcastle        Wigan  ...              29.24        27.73       1\n",
              "376      5571   Portsmouth    Blackburn  ...              18.84        19.28       1\n",
              "...       ...          ...          ...  ...                ...          ...     ...\n",
              "4181    22717    Newcastle      Chelsea  ...             297.08       228.68       1\n",
              "4182    22718  Southampton     Man City  ...             361.95       104.14      -1\n",
              "4183    22719      Swansea        Stoke  ...              65.78        40.06      -1\n",
              "4184    22720        Spurs    Leicester  ...             100.14        54.61       1\n",
              "4185    22721     West Ham      Everton  ...             231.65       144.19       1\n",
              "\n",
              "[4556 rows x 21 columns]"
            ]
          },
          "metadata": {
            "tags": []
          },
          "execution_count": 55
        }
      ]
    },
    {
      "cell_type": "markdown",
      "metadata": {
        "id": "FNSEcuEsrNC9"
      },
      "source": [
        "df_final becomes our X. Find y using the target varible."
      ]
    },
    {
      "cell_type": "code",
      "metadata": {
        "id": "MA80aKcfrKI5"
      },
      "source": [
        "X1 = df_mod_2.drop(columns=['MatchID', 'Home_team', 'Away_team', 'year'])\n",
        "y1 = df['target'].values\n",
        "\n",
        "X1_train, X1_test, y1_train, y1_test = train_test_split(X1, y1, test_size=.2, random_state=43)\n",
        "\n",
        "sc = StandardScaler()\n",
        "X1_train_std = sc.fit_transform(X_train)\n",
        "X1_test_std = sc.transform(X_test)\n",
        "\n",
        "lr = LogisticRegression(random_state=0, solver='lbfgs', max_iter=10000, multi_class='multinomial')"
      ],
      "execution_count": null,
      "outputs": []
    },
    {
      "cell_type": "code",
      "metadata": {
        "id": "ZI9PaTKIrRD4",
        "colab": {
          "base_uri": "https://localhost:8080/"
        },
        "outputId": "ae83b907-4c7b-4717-a55b-81c25d6616df"
      },
      "source": [
        "lr.fit(X1_train_std, y1_train)\n",
        "print(\"Accuracy: \", lr.score(X1_test_std, y1_test))"
      ],
      "execution_count": null,
      "outputs": [
        {
          "output_type": "stream",
          "text": [
            "Accuracy:  0.6282894736842105\n"
          ],
          "name": "stdout"
        }
      ]
    },
    {
      "cell_type": "markdown",
      "metadata": {
        "id": "UNZ0oH7qsTBa"
      },
      "source": [
        "Thus using Linear regression and reducing features as analyzed by techniques before, we get an accuracy of 62.82% of predicting the result of the game of leagues."
      ]
    },
    {
      "cell_type": "code",
      "metadata": {
        "id": "bQdVXQH0CtSK"
      },
      "source": [
        "home_attributes = ['MatchID', 'Home_team', 'year'] + [i for i in list(df_mod_2) if 'home' in i]\n",
        "away_attributes = ['MatchID', 'Away_team', 'year'] + [i for i in list(df_mod_2) if 'away' in i]"
      ],
      "execution_count": null,
      "outputs": []
    },
    {
      "cell_type": "markdown",
      "metadata": {
        "id": "p3drV52HDT6Q"
      },
      "source": [
        "Have a dataframe with only one team's features"
      ]
    },
    {
      "cell_type": "code",
      "metadata": {
        "id": "f6fdjaQ1DQJu",
        "colab": {
          "base_uri": "https://localhost:8080/"
        },
        "outputId": "a12f89fc-96a3-46c3-8ccc-21e6de61e836"
      },
      "source": [
        "final = []\n",
        "for _, row in df_mod_2.iterrows():\n",
        "    home_team = [row[i] for i in home_attributes] + [0]\n",
        "    away_team = [row[i] for i in away_attributes] + [1]\n",
        "    final.append(home_team)\n",
        "    final.append(away_team)\n",
        "\n",
        "print(final[-1])"
      ],
      "execution_count": null,
      "outputs": [
        {
          "output_type": "stream",
          "text": [
            "[22721, 'Everton', 2018, 1, 7, 365, 21, 1, 13, 231.65, 144.19, 1]\n"
          ],
          "name": "stdout"
        }
      ]
    },
    {
      "cell_type": "code",
      "metadata": {
        "id": "jdDpylwpEazb",
        "colab": {
          "base_uri": "https://localhost:8080/"
        },
        "outputId": "88864b80-7b5c-4503-8435-a787760681bf"
      },
      "source": [
        "features = ['MatchID', 'Team', 'year'] + [i.split('_')[0] for i in list(df_mod_2) if 'home' in i] + ['IsHome']\n",
        "print(features)"
      ],
      "execution_count": null,
      "outputs": [
        {
          "output_type": "stream",
          "text": [
            "['MatchID', 'Team', 'year', 'Score', 'Shots', 'Passes', 'Clearances', 'Offsides', 'Fouls', 'Expenditures', 'Income', 'IsHome']\n"
          ],
          "name": "stdout"
        }
      ]
    },
    {
      "cell_type": "code",
      "metadata": {
        "id": "cLlBUPrLE592",
        "colab": {
          "base_uri": "https://localhost:8080/",
          "height": 402
        },
        "outputId": "60405531-c3b8-4702-c4de-ed497f1c4fe5"
      },
      "source": [
        "df_final = pd.DataFrame(final, columns = features)\n",
        "df_final"
      ],
      "execution_count": null,
      "outputs": [
        {
          "output_type": "execute_result",
          "data": {
            "text/html": [
              "<div>\n",
              "<style scoped>\n",
              "    .dataframe tbody tr th:only-of-type {\n",
              "        vertical-align: middle;\n",
              "    }\n",
              "\n",
              "    .dataframe tbody tr th {\n",
              "        vertical-align: top;\n",
              "    }\n",
              "\n",
              "    .dataframe thead th {\n",
              "        text-align: right;\n",
              "    }\n",
              "</style>\n",
              "<table border=\"1\" class=\"dataframe\">\n",
              "  <thead>\n",
              "    <tr style=\"text-align: right;\">\n",
              "      <th></th>\n",
              "      <th>MatchID</th>\n",
              "      <th>Team</th>\n",
              "      <th>year</th>\n",
              "      <th>Score</th>\n",
              "      <th>Shots</th>\n",
              "      <th>Passes</th>\n",
              "      <th>Clearances</th>\n",
              "      <th>Offsides</th>\n",
              "      <th>Fouls</th>\n",
              "      <th>Expenditures</th>\n",
              "      <th>Income</th>\n",
              "      <th>IsHome</th>\n",
              "    </tr>\n",
              "  </thead>\n",
              "  <tbody>\n",
              "    <tr>\n",
              "      <th>0</th>\n",
              "      <td>5567</td>\n",
              "      <td>Arsenal</td>\n",
              "      <td>2007</td>\n",
              "      <td>1</td>\n",
              "      <td>7</td>\n",
              "      <td>631</td>\n",
              "      <td>14</td>\n",
              "      <td>2</td>\n",
              "      <td>10</td>\n",
              "      <td>17.10</td>\n",
              "      <td>14.85</td>\n",
              "      <td>0</td>\n",
              "    </tr>\n",
              "    <tr>\n",
              "      <th>1</th>\n",
              "      <td>5567</td>\n",
              "      <td>Aston Villa</td>\n",
              "      <td>2007</td>\n",
              "      <td>1</td>\n",
              "      <td>3</td>\n",
              "      <td>232</td>\n",
              "      <td>51</td>\n",
              "      <td>6</td>\n",
              "      <td>19</td>\n",
              "      <td>28.16</td>\n",
              "      <td>2.08</td>\n",
              "      <td>1</td>\n",
              "    </tr>\n",
              "    <tr>\n",
              "      <th>2</th>\n",
              "      <td>5568</td>\n",
              "      <td>Bolton</td>\n",
              "      <td>2007</td>\n",
              "      <td>2</td>\n",
              "      <td>4</td>\n",
              "      <td>243</td>\n",
              "      <td>20</td>\n",
              "      <td>3</td>\n",
              "      <td>22</td>\n",
              "      <td>19.38</td>\n",
              "      <td>4.39</td>\n",
              "      <td>0</td>\n",
              "    </tr>\n",
              "    <tr>\n",
              "      <th>3</th>\n",
              "      <td>5568</td>\n",
              "      <td>Spurs</td>\n",
              "      <td>2007</td>\n",
              "      <td>0</td>\n",
              "      <td>2</td>\n",
              "      <td>427</td>\n",
              "      <td>43</td>\n",
              "      <td>1</td>\n",
              "      <td>22</td>\n",
              "      <td>69.54</td>\n",
              "      <td>44.06</td>\n",
              "      <td>1</td>\n",
              "    </tr>\n",
              "    <tr>\n",
              "      <th>4</th>\n",
              "      <td>5569</td>\n",
              "      <td>Everton</td>\n",
              "      <td>2007</td>\n",
              "      <td>2</td>\n",
              "      <td>2</td>\n",
              "      <td>288</td>\n",
              "      <td>61</td>\n",
              "      <td>5</td>\n",
              "      <td>12</td>\n",
              "      <td>20.41</td>\n",
              "      <td>2.85</td>\n",
              "      <td>0</td>\n",
              "    </tr>\n",
              "    <tr>\n",
              "      <th>...</th>\n",
              "      <td>...</td>\n",
              "      <td>...</td>\n",
              "      <td>...</td>\n",
              "      <td>...</td>\n",
              "      <td>...</td>\n",
              "      <td>...</td>\n",
              "      <td>...</td>\n",
              "      <td>...</td>\n",
              "      <td>...</td>\n",
              "      <td>...</td>\n",
              "      <td>...</td>\n",
              "      <td>...</td>\n",
              "    </tr>\n",
              "    <tr>\n",
              "      <th>9107</th>\n",
              "      <td>22719</td>\n",
              "      <td>Stoke</td>\n",
              "      <td>2018</td>\n",
              "      <td>2</td>\n",
              "      <td>5</td>\n",
              "      <td>414</td>\n",
              "      <td>43</td>\n",
              "      <td>5</td>\n",
              "      <td>9</td>\n",
              "      <td>65.78</td>\n",
              "      <td>40.06</td>\n",
              "      <td>1</td>\n",
              "    </tr>\n",
              "    <tr>\n",
              "      <th>9108</th>\n",
              "      <td>22720</td>\n",
              "      <td>Spurs</td>\n",
              "      <td>2018</td>\n",
              "      <td>5</td>\n",
              "      <td>6</td>\n",
              "      <td>480</td>\n",
              "      <td>17</td>\n",
              "      <td>2</td>\n",
              "      <td>9</td>\n",
              "      <td>138.51</td>\n",
              "      <td>118.33</td>\n",
              "      <td>0</td>\n",
              "    </tr>\n",
              "    <tr>\n",
              "      <th>9109</th>\n",
              "      <td>22720</td>\n",
              "      <td>Leicester</td>\n",
              "      <td>2018</td>\n",
              "      <td>4</td>\n",
              "      <td>9</td>\n",
              "      <td>265</td>\n",
              "      <td>19</td>\n",
              "      <td>4</td>\n",
              "      <td>13</td>\n",
              "      <td>100.14</td>\n",
              "      <td>54.61</td>\n",
              "      <td>1</td>\n",
              "    </tr>\n",
              "    <tr>\n",
              "      <th>9110</th>\n",
              "      <td>22721</td>\n",
              "      <td>West Ham</td>\n",
              "      <td>2018</td>\n",
              "      <td>3</td>\n",
              "      <td>4</td>\n",
              "      <td>479</td>\n",
              "      <td>20</td>\n",
              "      <td>4</td>\n",
              "      <td>10</td>\n",
              "      <td>64.75</td>\n",
              "      <td>78.69</td>\n",
              "      <td>0</td>\n",
              "    </tr>\n",
              "    <tr>\n",
              "      <th>9111</th>\n",
              "      <td>22721</td>\n",
              "      <td>Everton</td>\n",
              "      <td>2018</td>\n",
              "      <td>1</td>\n",
              "      <td>7</td>\n",
              "      <td>365</td>\n",
              "      <td>21</td>\n",
              "      <td>1</td>\n",
              "      <td>13</td>\n",
              "      <td>231.65</td>\n",
              "      <td>144.19</td>\n",
              "      <td>1</td>\n",
              "    </tr>\n",
              "  </tbody>\n",
              "</table>\n",
              "<p>9112 rows × 12 columns</p>\n",
              "</div>"
            ],
            "text/plain": [
              "      MatchID         Team  year  Score  ...  Fouls  Expenditures  Income  IsHome\n",
              "0        5567      Arsenal  2007      1  ...     10         17.10   14.85       0\n",
              "1        5567  Aston Villa  2007      1  ...     19         28.16    2.08       1\n",
              "2        5568       Bolton  2007      2  ...     22         19.38    4.39       0\n",
              "3        5568        Spurs  2007      0  ...     22         69.54   44.06       1\n",
              "4        5569      Everton  2007      2  ...     12         20.41    2.85       0\n",
              "...       ...          ...   ...    ...  ...    ...           ...     ...     ...\n",
              "9107    22719        Stoke  2018      2  ...      9         65.78   40.06       1\n",
              "9108    22720        Spurs  2018      5  ...      9        138.51  118.33       0\n",
              "9109    22720    Leicester  2018      4  ...     13        100.14   54.61       1\n",
              "9110    22721     West Ham  2018      3  ...     10         64.75   78.69       0\n",
              "9111    22721      Everton  2018      1  ...     13        231.65  144.19       1\n",
              "\n",
              "[9112 rows x 12 columns]"
            ]
          },
          "metadata": {
            "tags": []
          },
          "execution_count": 72
        }
      ]
    },
    {
      "cell_type": "markdown",
      "metadata": {
        "id": "8dL4_UKQF0LA"
      },
      "source": [
        "Now find ExpectedGoals. Using Expected Goals, we will find a team's expected number of goals scored based on some distribution and previos results. Just by comparing these xG, we will declare the winner for a game."
      ]
    },
    {
      "cell_type": "code",
      "metadata": {
        "id": "BLXj1dpgFx5E"
      },
      "source": [
        "from sklearn.svm import SVR\n",
        "from sklearn.neural_network import MLPRegressor\n",
        "from sklearn.neighbors import KNeighborsClassifier\n",
        "from sklearn.linear_model import Lasso, LassoLars, Ridge, BayesianRidge, SGDRegressor, LinearRegression\n",
        "from sklearn.ensemble import AdaBoostRegressor, ExtraTreesRegressor, GradientBoostingRegressor, RandomForestRegressor\n"
      ],
      "execution_count": null,
      "outputs": []
    },
    {
      "cell_type": "code",
      "metadata": {
        "id": "sSoL_iWfHLWM"
      },
      "source": [
        "all_regs = [SVR(), MLPRegressor(), KNeighborsClassifier(), Lasso(), LassoLars(),\n",
        "            Ridge(), BayesianRidge(), SGDRegressor(), AdaBoostRegressor(),\n",
        "            ExtraTreesRegressor(), GradientBoostingRegressor(), \n",
        "            RandomForestRegressor(), LinearRegression()]"
      ],
      "execution_count": null,
      "outputs": []
    },
    {
      "cell_type": "code",
      "metadata": {
        "id": "dFlcsxwPHwMN",
        "colab": {
          "base_uri": "https://localhost:8080/"
        },
        "outputId": "470e1c48-bb07-4b4c-c077-a067bac8b6a9"
      },
      "source": [
        "from sklearn.metrics import mean_squared_error\n",
        "\n",
        "df_final_mod = df_final.drop(columns = Target_proxies)\n",
        "\n",
        "X = df_final_mod.values\n",
        "y = df_final['Score'].values\n",
        "\n",
        "reg_dict = {str(type(reg)).split('.')[-1][:-2]: [] for reg in all_regs}\n",
        "X_train, X_test, y_train, y_test = train_test_split(X, y, test_size=.2, random_state=43)\n",
        "\n",
        "for reg in all_regs:\n",
        "    reg_name = str(type(reg)).split('.')[-1][:-2]\n",
        "    reg.fit(X_train, y_train)\n",
        "    y_pred = reg.predict(X_test)\n",
        "    reg_dict[reg_name].append( (\"rmse\", mean_squared_error(y_test, y_pred)**.5))\n",
        "\n",
        "rmse = []\n",
        "for k,v in reg_dict.items():\n",
        "    rmse.append((k, v[0][1]))\n",
        "sorted(rmse, key=lambda x: x[1])"
      ],
      "execution_count": null,
      "outputs": [
        {
          "output_type": "execute_result",
          "data": {
            "text/plain": [
              "[('GradientBoostingRegressor', 1.0476679808835914),\n",
              " ('Ridge', 1.0483360868187832),\n",
              " ('LinearRegression', 1.0483361079788438),\n",
              " ('BayesianRidge', 1.0483445635459643),\n",
              " ('MLPRegressor', 1.0559851992947198),\n",
              " ('AdaBoostRegressor', 1.0720350150665876),\n",
              " ('RandomForestRegressor', 1.0796276861756529),\n",
              " ('ExtraTreesRegressor', 1.0943520790161436),\n",
              " ('Lasso', 1.1534239002762374),\n",
              " ('SVR', 1.2123354715319923),\n",
              " ('LassoLars', 1.3101170191594549),\n",
              " ('KNeighborsClassifier', 1.565887031105823),\n",
              " ('SGDRegressor', 20900617051055.145)]"
            ]
          },
          "metadata": {
            "tags": []
          },
          "execution_count": 75
        }
      ]
    },
    {
      "cell_type": "markdown",
      "metadata": {
        "id": "ppN7-AzQL43Y"
      },
      "source": [
        "Again Gradient Boosting Regressor seems to be giving best results."
      ]
    },
    {
      "cell_type": "code",
      "metadata": {
        "id": "RnW0GvCwLhdb"
      },
      "source": [
        "from sklearn.model_selection import RandomizedSearchCV\n",
        "\n",
        "gb_params = {'loss': ['ls', 'lad', 'huber'],\n",
        "             'subsample': [0.2, 0.5, 1.0],\n",
        "             'min_samples_split': [2, 5, 10],\n",
        "             'max_depth': [3, 5, 7, 10]\n",
        "             }\n",
        "\n",
        "gb_cv = RandomizedSearchCV(GradientBoostingRegressor(), gb_params, cv=5,\n",
        "                           n_jobs=-1, n_iter=20)\n",
        "_ = gb_cv.fit(X,y)"
      ],
      "execution_count": null,
      "outputs": []
    },
    {
      "cell_type": "code",
      "metadata": {
        "id": "WD2KHhbGbGPv",
        "colab": {
          "base_uri": "https://localhost:8080/"
        },
        "outputId": "acc10b2a-7182-4baa-ca65-adaf3bf55517"
      },
      "source": [
        "cv_res_dict = gb_cv.cv_results_\n",
        "for param_set, test_score in zip(cv_res_dict['params'], cv_res_dict['mean_test_score']):\n",
        "    print(param_set, \" : \", test_score )"
      ],
      "execution_count": null,
      "outputs": [
        {
          "output_type": "stream",
          "text": [
            "{'subsample': 1.0, 'min_samples_split': 2, 'max_depth': 7, 'loss': 'lad'}  :  0.26076809141425294\n",
            "{'subsample': 0.5, 'min_samples_split': 2, 'max_depth': 5, 'loss': 'ls'}  :  0.30408210892715076\n",
            "{'subsample': 0.2, 'min_samples_split': 5, 'max_depth': 7, 'loss': 'lad'}  :  0.27482527796807177\n",
            "{'subsample': 1.0, 'min_samples_split': 5, 'max_depth': 10, 'loss': 'ls'}  :  0.23463239651920084\n",
            "{'subsample': 1.0, 'min_samples_split': 2, 'max_depth': 5, 'loss': 'ls'}  :  0.30938242316242615\n",
            "{'subsample': 0.5, 'min_samples_split': 2, 'max_depth': 3, 'loss': 'ls'}  :  0.32905364781196667\n",
            "{'subsample': 0.2, 'min_samples_split': 5, 'max_depth': 10, 'loss': 'ls'}  :  0.1632744127701216\n",
            "{'subsample': 0.5, 'min_samples_split': 5, 'max_depth': 3, 'loss': 'lad'}  :  0.305905347850314\n",
            "{'subsample': 0.5, 'min_samples_split': 10, 'max_depth': 10, 'loss': 'huber'}  :  0.2287265041005356\n",
            "{'subsample': 0.5, 'min_samples_split': 2, 'max_depth': 3, 'loss': 'lad'}  :  0.3037448753197741\n",
            "{'subsample': 1.0, 'min_samples_split': 10, 'max_depth': 10, 'loss': 'ls'}  :  0.23354866831644888\n",
            "{'subsample': 0.5, 'min_samples_split': 2, 'max_depth': 10, 'loss': 'ls'}  :  0.21351703085822732\n",
            "{'subsample': 1.0, 'min_samples_split': 5, 'max_depth': 7, 'loss': 'ls'}  :  0.27701883386413156\n",
            "{'subsample': 0.5, 'min_samples_split': 2, 'max_depth': 3, 'loss': 'huber'}  :  0.3308090131237438\n",
            "{'subsample': 0.2, 'min_samples_split': 5, 'max_depth': 3, 'loss': 'ls'}  :  0.3258317365164834\n",
            "{'subsample': 1.0, 'min_samples_split': 10, 'max_depth': 10, 'loss': 'huber'}  :  0.2484670242802618\n",
            "{'subsample': 1.0, 'min_samples_split': 2, 'max_depth': 3, 'loss': 'lad'}  :  0.2332184494394685\n",
            "{'subsample': 0.5, 'min_samples_split': 2, 'max_depth': 10, 'loss': 'huber'}  :  0.20942392046471311\n",
            "{'subsample': 0.5, 'min_samples_split': 10, 'max_depth': 5, 'loss': 'lad'}  :  0.30509510480571433\n",
            "{'subsample': 1.0, 'min_samples_split': 5, 'max_depth': 5, 'loss': 'ls'}  :  0.3119790371133496\n"
          ],
          "name": "stdout"
        }
      ]
    },
    {
      "cell_type": "markdown",
      "metadata": {
        "id": "BcKYHX_DgakW"
      },
      "source": [
        "So we will use Gradient Boosting model with ls loss function which gives result:\n",
        "\n",
        "{'subsample': 0.2, 'min_samples_split': 2, 'max_depth': 10, 'loss': 'ls'}  :  0.14525918395391843"
      ]
    },
    {
      "cell_type": "markdown",
      "metadata": {
        "id": "r_wT0nnlhcWL"
      },
      "source": [
        "#Prediction"
      ]
    },
    {
      "cell_type": "code",
      "metadata": {
        "id": "Ofc4AM29gaH3"
      },
      "source": [
        "window = 10\n",
        "gbr = GradientBoostingRegressor(loss='ls', max_depth=10, min_samples_split=2, \n",
        "                                subsample=0.2)\n",
        "year_to_test = 2018"
      ],
      "execution_count": null,
      "outputs": []
    },
    {
      "cell_type": "code",
      "metadata": {
        "id": "jM2yvzX3iGnu"
      },
      "source": [
        "#Train\n",
        "features_to_drop = ['MatchID', 'Team', 'year', 'Score']\n",
        "X = df_final[df_final.year != year_to_test].drop(columns=features_to_drop).values\n",
        "y = df_final[df_final.year != year_to_test].Score.values\n",
        "goal_model = gbr.fit(X,y)"
      ],
      "execution_count": null,
      "outputs": []
    },
    {
      "cell_type": "markdown",
      "metadata": {
        "id": "QwvDZZYElVQk"
      },
      "source": [
        "Predict Shots, Passes, Clearances, Offsides and Fouls using model trained on rest years"
      ]
    },
    {
      "cell_type": "code",
      "metadata": {
        "id": "XVkMnIPdlLZL"
      },
      "source": [
        "model_map = {'Shots': GradientBoostingRegressor(),\n",
        "             'Passes': LinearRegression(),\n",
        "             'Clearances': GradientBoostingRegressor(),\n",
        "             'Fouls': Ridge(),\n",
        "             'Offsides': GradientBoostingRegressor()\n",
        "             }"
      ],
      "execution_count": null,
      "outputs": []
    },
    {
      "cell_type": "code",
      "metadata": {
        "id": "y0GCNpOMP1xx"
      },
      "source": [
        "features_to_drop = ['MatchID', 'Team', 'year']\n",
        "\n",
        "for feature,clf in model_map.items():\n",
        "    teams = df_final[df_final.year != year_to_test].Team.unique()\n",
        "    X_list, y_list = [], []\n",
        "    for team in teams:\n",
        "        team_df = df_final[df_final.Team == team]\n",
        "        fit_df = team_df[team_df.year != year_to_test].drop(columns=features_to_drop + [feature])\n",
        "        for i in range(team_df.shape[0] - window - 1):\n",
        "            X_vec = fit_df.iloc[i:i+window].values.flatten()\n",
        "            if X_vec.shape[0] == 8 * window:\n",
        "                X_list.append(X_vec)\n",
        "                y_list.append(team_df[feature].values[i+window+1])\n",
        "        \n",
        "    X = np.vstack(X_list)\n",
        "    y = np.array(y_list)\n",
        "    clf.fit(X,y)\n",
        "    model_map[feature] = clf"
      ],
      "execution_count": null,
      "outputs": []
    },
    {
      "cell_type": "code",
      "metadata": {
        "id": "1kvb0NL0RjcM",
        "colab": {
          "base_uri": "https://localhost:8080/",
          "height": 195
        },
        "outputId": "957d0296-c21f-4021-c62f-23ce618c7411"
      },
      "source": [
        "simulated_df = df_final[df_final.year == 2017]\n",
        "simulated_df.head()"
      ],
      "execution_count": null,
      "outputs": [
        {
          "output_type": "execute_result",
          "data": {
            "text/html": [
              "<div>\n",
              "<style scoped>\n",
              "    .dataframe tbody tr th:only-of-type {\n",
              "        vertical-align: middle;\n",
              "    }\n",
              "\n",
              "    .dataframe tbody tr th {\n",
              "        vertical-align: top;\n",
              "    }\n",
              "\n",
              "    .dataframe thead th {\n",
              "        text-align: right;\n",
              "    }\n",
              "</style>\n",
              "<table border=\"1\" class=\"dataframe\">\n",
              "  <thead>\n",
              "    <tr style=\"text-align: right;\">\n",
              "      <th></th>\n",
              "      <th>MatchID</th>\n",
              "      <th>Team</th>\n",
              "      <th>year</th>\n",
              "      <th>Score</th>\n",
              "      <th>Shots</th>\n",
              "      <th>Passes</th>\n",
              "      <th>Clearances</th>\n",
              "      <th>Offsides</th>\n",
              "      <th>Fouls</th>\n",
              "      <th>Expenditures</th>\n",
              "      <th>Income</th>\n",
              "      <th>IsHome</th>\n",
              "    </tr>\n",
              "  </thead>\n",
              "  <tbody>\n",
              "    <tr>\n",
              "      <th>7594</th>\n",
              "      <td>14040</td>\n",
              "      <td>Arsenal</td>\n",
              "      <td>2017</td>\n",
              "      <td>3</td>\n",
              "      <td>5</td>\n",
              "      <td>485</td>\n",
              "      <td>9</td>\n",
              "      <td>4</td>\n",
              "      <td>13</td>\n",
              "      <td>128.82</td>\n",
              "      <td>11.80</td>\n",
              "      <td>0</td>\n",
              "    </tr>\n",
              "    <tr>\n",
              "      <th>7595</th>\n",
              "      <td>14040</td>\n",
              "      <td>Liverpool</td>\n",
              "      <td>2017</td>\n",
              "      <td>4</td>\n",
              "      <td>7</td>\n",
              "      <td>479</td>\n",
              "      <td>26</td>\n",
              "      <td>3</td>\n",
              "      <td>17</td>\n",
              "      <td>91.09</td>\n",
              "      <td>96.79</td>\n",
              "      <td>1</td>\n",
              "    </tr>\n",
              "    <tr>\n",
              "      <th>7596</th>\n",
              "      <td>14041</td>\n",
              "      <td>Bournemouth</td>\n",
              "      <td>2017</td>\n",
              "      <td>1</td>\n",
              "      <td>3</td>\n",
              "      <td>483</td>\n",
              "      <td>7</td>\n",
              "      <td>3</td>\n",
              "      <td>7</td>\n",
              "      <td>46.39</td>\n",
              "      <td>29.06</td>\n",
              "      <td>0</td>\n",
              "    </tr>\n",
              "    <tr>\n",
              "      <th>7597</th>\n",
              "      <td>14041</td>\n",
              "      <td>Man Utd</td>\n",
              "      <td>2017</td>\n",
              "      <td>3</td>\n",
              "      <td>7</td>\n",
              "      <td>561</td>\n",
              "      <td>30</td>\n",
              "      <td>4</td>\n",
              "      <td>10</td>\n",
              "      <td>210.90</td>\n",
              "      <td>53.75</td>\n",
              "      <td>1</td>\n",
              "    </tr>\n",
              "    <tr>\n",
              "      <th>7598</th>\n",
              "      <td>14042</td>\n",
              "      <td>Burnley</td>\n",
              "      <td>2017</td>\n",
              "      <td>0</td>\n",
              "      <td>3</td>\n",
              "      <td>353</td>\n",
              "      <td>16</td>\n",
              "      <td>3</td>\n",
              "      <td>10</td>\n",
              "      <td>51.98</td>\n",
              "      <td>1.37</td>\n",
              "      <td>0</td>\n",
              "    </tr>\n",
              "  </tbody>\n",
              "</table>\n",
              "</div>"
            ],
            "text/plain": [
              "      MatchID         Team  year  Score  ...  Fouls  Expenditures  Income  IsHome\n",
              "7594    14040      Arsenal  2017      3  ...     13        128.82   11.80       0\n",
              "7595    14040    Liverpool  2017      4  ...     17         91.09   96.79       1\n",
              "7596    14041  Bournemouth  2017      1  ...      7         46.39   29.06       0\n",
              "7597    14041      Man Utd  2017      3  ...     10        210.90   53.75       1\n",
              "7598    14042      Burnley  2017      0  ...     10         51.98    1.37       0\n",
              "\n",
              "[5 rows x 12 columns]"
            ]
          },
          "metadata": {
            "tags": []
          },
          "execution_count": 101
        }
      ]
    },
    {
      "cell_type": "code",
      "metadata": {
        "id": "oLB8JxhTSIli",
        "colab": {
          "base_uri": "https://localhost:8080/"
        },
        "outputId": "1e166f91-8531-488c-9bc6-d8ad497e10d1"
      },
      "source": [
        "sim_stddev_map = {feature: np.std(df_final[feature]) for feature in model_map.keys()}\n",
        "sim_mean_map = {feature: np.mean(df_final[feature]) for feature in model_map.keys()}\n",
        "\n",
        "print(sim_mean_map)\n",
        "print(sim_stddev_map)"
      ],
      "execution_count": null,
      "outputs": [
        {
          "output_type": "stream",
          "text": [
            "{'Shots': 4.40188762071993, 'Passes': 410.9720149253731, 'Clearances': 32.79708077260755, 'Fouls': 11.764925373134329, 'Offsides': 2.259657594381036}\n",
            "{'Shots': 2.546931901038951, 'Passes': 115.36831591439368, 'Clearances': 14.842825213227503, 'Fouls': 3.890462298957617, 'Offsides': 1.8304938875131618}\n"
          ],
          "name": "stdout"
        }
      ]
    },
    {
      "cell_type": "code",
      "metadata": {
        "id": "6GctXgZfVD4i",
        "colab": {
          "base_uri": "https://localhost:8080/",
          "height": 195
        },
        "outputId": "db53249f-0ea9-4021-eed1-7b28003878b1"
      },
      "source": [
        "test_season = df_final[df_final.year == year_to_test].drop(columns = list(model_map.keys()) + ['Score'])\n",
        "test_season.head()"
      ],
      "execution_count": null,
      "outputs": [
        {
          "output_type": "execute_result",
          "data": {
            "text/html": [
              "<div>\n",
              "<style scoped>\n",
              "    .dataframe tbody tr th:only-of-type {\n",
              "        vertical-align: middle;\n",
              "    }\n",
              "\n",
              "    .dataframe tbody tr th {\n",
              "        vertical-align: top;\n",
              "    }\n",
              "\n",
              "    .dataframe thead th {\n",
              "        text-align: right;\n",
              "    }\n",
              "</style>\n",
              "<table border=\"1\" class=\"dataframe\">\n",
              "  <thead>\n",
              "    <tr style=\"text-align: right;\">\n",
              "      <th></th>\n",
              "      <th>MatchID</th>\n",
              "      <th>Team</th>\n",
              "      <th>year</th>\n",
              "      <th>Expenditures</th>\n",
              "      <th>Income</th>\n",
              "      <th>IsHome</th>\n",
              "    </tr>\n",
              "  </thead>\n",
              "  <tbody>\n",
              "    <tr>\n",
              "      <th>8352</th>\n",
              "      <td>22342</td>\n",
              "      <td>Arsenal</td>\n",
              "      <td>2018</td>\n",
              "      <td>174.25</td>\n",
              "      <td>178.07</td>\n",
              "      <td>0</td>\n",
              "    </tr>\n",
              "    <tr>\n",
              "      <th>8353</th>\n",
              "      <td>22342</td>\n",
              "      <td>Leicester</td>\n",
              "      <td>2018</td>\n",
              "      <td>100.14</td>\n",
              "      <td>54.61</td>\n",
              "      <td>1</td>\n",
              "    </tr>\n",
              "    <tr>\n",
              "      <th>8354</th>\n",
              "      <td>22343</td>\n",
              "      <td>Brighton</td>\n",
              "      <td>2018</td>\n",
              "      <td>72.39</td>\n",
              "      <td>0.00</td>\n",
              "      <td>0</td>\n",
              "    </tr>\n",
              "    <tr>\n",
              "      <th>8355</th>\n",
              "      <td>22343</td>\n",
              "      <td>Man City</td>\n",
              "      <td>2018</td>\n",
              "      <td>361.95</td>\n",
              "      <td>104.14</td>\n",
              "      <td>1</td>\n",
              "    </tr>\n",
              "    <tr>\n",
              "      <th>8356</th>\n",
              "      <td>22344</td>\n",
              "      <td>Chelsea</td>\n",
              "      <td>2018</td>\n",
              "      <td>297.08</td>\n",
              "      <td>228.68</td>\n",
              "      <td>0</td>\n",
              "    </tr>\n",
              "  </tbody>\n",
              "</table>\n",
              "</div>"
            ],
            "text/plain": [
              "      MatchID       Team  year  Expenditures  Income  IsHome\n",
              "8352    22342    Arsenal  2018        174.25  178.07       0\n",
              "8353    22342  Leicester  2018        100.14   54.61       1\n",
              "8354    22343   Brighton  2018         72.39    0.00       0\n",
              "8355    22343   Man City  2018        361.95  104.14       1\n",
              "8356    22344    Chelsea  2018        297.08  228.68       0"
            ]
          },
          "metadata": {
            "tags": []
          },
          "execution_count": 103
        }
      ]
    },
    {
      "cell_type": "code",
      "metadata": {
        "id": "5y1kSceFW4cA"
      },
      "source": [
        "def fit_game(game, df, model_map, goal_model, noise_map, window=10,\n",
        "             relegated=['Hull', 'Middlesbrough', 'Sunderland'],\n",
        "             features_to_drop = ['MatchID', 'Team', 'year']):\n",
        "    team_df = df[df.Team == game.Team]\n",
        "    if team_df.shape[0] < window:#Newly promoted teams take same form as last season relegated teams\n",
        "        relegated_df = df[(df.Team == relegated[0]) |\n",
        "                          (df.Team == relegated[1]) | \n",
        "                          (df.Team == relegated[2]) ]\n",
        "        team_df = pd.concat([relegated_df, team_df])\n",
        "    \n",
        "    #Insert randomly distribution in statistical features\n",
        "    new_row = {'MatchID':game.MatchID, 'Team':game.Team, 'year':game.year,\n",
        "               'Score':None, 'Shots':None, 'Passes':None, 'Offsides':None,\n",
        "               'Fouls':None, 'Expenditures':game.Expenditures, 'Income': game.Income,\n",
        "               'IsHome':game.IsHome}\n",
        "    \n",
        "    for feature in model_map.keys():\n",
        "        X = team_df.tail(window).drop(columns=features_to_drop + [feature]).values.flatten().reshape(1,-1)\n",
        "        noise = noise_map[feature]*np.random.normal()\n",
        "        new_row[feature] = max(int(model_map[feature].predict(X)[0]) + noise, 0)\n",
        "    \n",
        "    goal_features = ['Shots', 'Passes', 'Clearances', 'Offsides', 'Fouls', 'Expenditures', 'Income', 'IsHome']\n",
        "    X_score_list = [new_row[feature] for feature in goal_features]\n",
        "    X_score = np.array(X_score_list).reshape(1,-1)\n",
        "    new_row['Score'] = int(goal_model.predict(X_score)[0])\n",
        "    return new_row"
      ],
      "execution_count": null,
      "outputs": []
    },
    {
      "cell_type": "code",
      "metadata": {
        "id": "bq7jqxgdWF4p",
        "colab": {
          "base_uri": "https://localhost:8080/"
        },
        "outputId": "6bb59efa-e462-4a58-8cda-a002aed86718"
      },
      "source": [
        "for row in test_season.iterrows():\n",
        "    game = row[1]\n",
        "    sim_res = fit_game(game, simulated_df, model_map, goal_model, sim_stddev_map)\n",
        "    simulated_df = simulated_df.append(sim_res, ignore_index=True)\n",
        "\n",
        "print(simulated_df.head(10))"
      ],
      "execution_count": null,
      "outputs": [
        {
          "output_type": "stream",
          "text": [
            "   MatchID            Team  year  Score  ...  Fouls  Expenditures  Income  IsHome\n",
            "0    14040         Arsenal  2017      3  ...   13.0        128.82   11.80       0\n",
            "1    14040       Liverpool  2017      4  ...   17.0         91.09   96.79       1\n",
            "2    14041     Bournemouth  2017      1  ...    7.0         46.39   29.06       0\n",
            "3    14041         Man Utd  2017      3  ...   10.0        210.90   53.75       1\n",
            "4    14042         Burnley  2017      0  ...   10.0         51.98    1.37       0\n",
            "5    14042         Swansea  2017      1  ...   14.0         66.35   55.40       1\n",
            "6    14043         Chelsea  2017      2  ...   16.0        151.39  123.58       0\n",
            "7    14043        West Ham  2017      1  ...   16.0         95.19   46.74       1\n",
            "8    14044  Crystal Palace  2017      0  ...   12.0        115.48   57.23       0\n",
            "9    14044       West Brom  2017      1  ...   15.0         43.21   30.75       1\n",
            "\n",
            "[10 rows x 12 columns]\n"
          ],
          "name": "stdout"
        }
      ]
    },
    {
      "cell_type": "code",
      "metadata": {
        "id": "i6CoDLuS0U5s"
      },
      "source": [
        "def get_team_points(df, test_year = 2018):\n",
        "    year_df = df[df.year == test_year]\n",
        "    point_dict = { team: [] for team in year_df.Team.unique() }\n",
        "    match_ids = year_df.MatchID.unique() # need to match games on MatchID\n",
        "    for match_id in match_ids:\n",
        "        game = year_df[year_df.MatchID == match_id]\n",
        "        result = game[['Team', 'Score']].values\n",
        "        if result[0][1] == result[1][1]:  # draw\n",
        "            point_dict[result[0][0]].append(1)\n",
        "            point_dict[result[1][0]].append(1)\n",
        "        elif result[0][1] > result[1][1]:\n",
        "            point_dict[result[0][0]].append(3)\n",
        "            point_dict[result[1][0]].append(0)\n",
        "        else:\n",
        "            point_dict[result[0][0]].append(0)\n",
        "            point_dict[result[1][0]].append(3)\n",
        "\n",
        "    table = []\n",
        "    for team, point_list in point_dict.items():\n",
        "        table.append( (team, sum(point_list)) )\n",
        "    return table"
      ],
      "execution_count": null,
      "outputs": []
    },
    {
      "cell_type": "code",
      "metadata": {
        "id": "PaF_sX8x0Wzs",
        "colab": {
          "base_uri": "https://localhost:8080/"
        },
        "outputId": "057e1812-a9c0-4e58-f749-60bc9cf6d8d3"
      },
      "source": [
        "points = get_team_points(simulated_df)\n",
        "sorted(points, key=lambda x: -x[1])"
      ],
      "execution_count": null,
      "outputs": [
        {
          "output_type": "execute_result",
          "data": {
            "text/plain": [
              "[('Man Utd', 76),\n",
              " ('Arsenal', 71),\n",
              " ('Spurs', 70),\n",
              " ('Southampton', 63),\n",
              " ('Chelsea', 60),\n",
              " ('Leicester', 58),\n",
              " ('Bournemouth', 57),\n",
              " ('Man City', 55),\n",
              " ('Everton', 51),\n",
              " ('Swansea', 51),\n",
              " ('Liverpool', 51),\n",
              " ('Stoke', 49),\n",
              " ('Brighton', 46),\n",
              " ('Burnley', 44),\n",
              " ('Crystal Palace', 41),\n",
              " ('Watford', 39),\n",
              " ('Huddersfield', 38),\n",
              " ('Newcastle', 38),\n",
              " ('West Ham', 31),\n",
              " ('West Brom', 30)]"
            ]
          },
          "metadata": {
            "tags": []
          },
          "execution_count": 111
        }
      ]
    },
    {
      "cell_type": "markdown",
      "metadata": {
        "id": "1fcQR6X50431"
      },
      "source": [
        "This model rightly predicts that West Brom will finish bottom of the table and will be relegated and that Manchester United will come close to winning the premier league. However it wrongly predicts that Man City will be struggling and that Southhampton will finish in top 4."
      ]
    },
    {
      "cell_type": "markdown",
      "metadata": {
        "id": "vFhfgBQY1ta0"
      },
      "source": [
        "Now we will do more runs to get a better model."
      ]
    },
    {
      "cell_type": "code",
      "metadata": {
        "id": "PGVVKbfr5QBO"
      },
      "source": [
        "runs = 50"
      ],
      "execution_count": null,
      "outputs": []
    },
    {
      "cell_type": "code",
      "metadata": {
        "id": "pTiYVaoi1Pav"
      },
      "source": [
        "season_df = df_final[df_final.year == year_to_test].drop(columns = list(model_map.keys()) + ['Score'])\n",
        "base_df = df_final[df_final.year == (year_to_test-1)]\n",
        "\n",
        "total_points = {team: [] for team in season_df.Team.unique()}\n",
        "positions = {team: [] for team in season_df.Team.unique()}\n",
        "\n",
        "for run in range(runs):\n",
        "    run_df = base_df.copy()\n",
        "    for row in season_df.iterrows():\n",
        "        game = row[1]\n",
        "        simulated_res = fit_game(game, run_df, model_map, goal_model, sim_stddev_map)\n",
        "        run_df = run_df.append(simulated_res, ignore_index=True)\n",
        "\n",
        "    simulated_table = get_team_points(run_df)\n",
        "    for points in simulated_table:\n",
        "        total_points[points[0]].append(points[1])\n",
        "\n",
        "    sorted(simulated_table, key=lambda x: -x[1])\n",
        "    standings = [t[0] for t in simulated_table]\n",
        "\n",
        "    for i,team in enumerate(standings):\n",
        "        positions[team].append(i+1)"
      ],
      "execution_count": null,
      "outputs": []
    },
    {
      "cell_type": "code",
      "metadata": {
        "id": "LS3Fh9te6jyV",
        "colab": {
          "base_uri": "https://localhost:8080/"
        },
        "outputId": "770c36c9-3e62-484b-9872-79dd16689e37"
      },
      "source": [
        "sorted( [(team, sum(points)/len(points)) for team, points in total_points.items()], key = lambda x: -x[1] )"
      ],
      "execution_count": null,
      "outputs": [
        {
          "output_type": "execute_result",
          "data": {
            "text/plain": [
              "[('Chelsea', 75.26),\n",
              " ('Spurs', 68.0),\n",
              " ('Man City', 65.84),\n",
              " ('Liverpool', 60.22),\n",
              " ('Arsenal', 59.6),\n",
              " ('Man Utd', 57.02),\n",
              " ('Watford', 56.66),\n",
              " ('Southampton', 55.56),\n",
              " ('Everton', 55.54),\n",
              " ('Leicester', 52.1),\n",
              " ('Swansea', 52.04),\n",
              " ('Stoke', 49.0),\n",
              " ('Newcastle', 41.7),\n",
              " ('Burnley', 40.8),\n",
              " ('West Ham', 40.68),\n",
              " ('West Brom', 40.6),\n",
              " ('Brighton', 39.06),\n",
              " ('Huddersfield', 38.14),\n",
              " ('Crystal Palace', 37.6),\n",
              " ('Bournemouth', 36.58)]"
            ]
          },
          "metadata": {
            "tags": []
          },
          "execution_count": 120
        }
      ]
    },
    {
      "cell_type": "markdown",
      "metadata": {
        "id": "1eJYKVni_EAF"
      },
      "source": [
        "This prediction looks very much similar to actual 2018 Premier League Table. All top 6 predicted teams are correct and 3 out of 4 teams are correctly predicted to be in top 4."
      ]
    },
    {
      "cell_type": "code",
      "metadata": {
        "id": "RQDwuABGlIue"
      },
      "source": [
        ""
      ],
      "execution_count": null,
      "outputs": []
    }
  ]
}